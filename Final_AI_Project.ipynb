{
 "cells": [
  {
   "cell_type": "markdown",
   "id": "56dc16ce",
   "metadata": {},
   "source": [
    "# Importing Python Libraries "
   ]
  },
  {
   "cell_type": "code",
   "execution_count": 1,
   "id": "71faf14f",
   "metadata": {},
   "outputs": [],
   "source": [
    "import pandas as pd \n",
    "import numpy as np \n",
    "import matplotlib.pyplot as plt \n",
    "import seaborn as sns "
   ]
  },
  {
   "cell_type": "markdown",
   "id": "1ab276a0",
   "metadata": {},
   "source": [
    "# Importing functions to find the best model for our dataset "
   ]
  },
  {
   "cell_type": "code",
   "execution_count": 2,
   "id": "aea12234",
   "metadata": {},
   "outputs": [],
   "source": [
    "from sklearn.metrics import accuracy_score\n",
    "from sklearn.metrics import roc_auc_score\n",
    "from sklearn.metrics import f1_score\n",
    "from sklearn.metrics import precision_score\n",
    "from sklearn.metrics import recall_score\n"
   ]
  },
  {
   "cell_type": "markdown",
   "id": "f358a314",
   "metadata": {},
   "source": [
    "# Importing Models  From Sklearn to Train "
   ]
  },
  {
   "cell_type": "code",
   "execution_count": 3,
   "id": "261236ad",
   "metadata": {},
   "outputs": [],
   "source": [
    "\n",
    "from sklearn.svm import SVC\n",
    "from sklearn.naive_bayes import GaussianNB\n",
    "from sklearn.tree import DecisionTreeClassifier\n",
    "from sklearn.ensemble import RandomForestClassifier\n",
    "from sklearn.neighbors import KNeighborsClassifier\n",
    "from sklearn.metrics import confusion_matrix\n"
   ]
  },
  {
   "cell_type": "code",
   "execution_count": 4,
   "id": "4495f1ae",
   "metadata": {},
   "outputs": [],
   "source": [
    "from sklearn import datasets, metrics, model_selection, svm\n",
    "from sklearn.metrics import confusion_matrix, ConfusionMatrixDisplay \n",
    "from sklearn.metrics import PrecisionRecallDisplay\n",
    "from imblearn.metrics import geometric_mean_score"
   ]
  },
  {
   "cell_type": "markdown",
   "id": "92eac079",
   "metadata": {},
   "source": [
    "**Loading Dataset**"
   ]
  },
  {
   "cell_type": "code",
   "execution_count": 5,
   "id": "df94b208",
   "metadata": {},
   "outputs": [],
   "source": [
    "df = pd.read_csv('creditcard.csv')"
   ]
  },
  {
   "cell_type": "code",
   "execution_count": 6,
   "id": "de4f7dee",
   "metadata": {
    "scrolled": false
   },
   "outputs": [
    {
     "data": {
      "text/html": [
       "<div>\n",
       "<style scoped>\n",
       "    .dataframe tbody tr th:only-of-type {\n",
       "        vertical-align: middle;\n",
       "    }\n",
       "\n",
       "    .dataframe tbody tr th {\n",
       "        vertical-align: top;\n",
       "    }\n",
       "\n",
       "    .dataframe thead th {\n",
       "        text-align: right;\n",
       "    }\n",
       "</style>\n",
       "<table border=\"1\" class=\"dataframe\">\n",
       "  <thead>\n",
       "    <tr style=\"text-align: right;\">\n",
       "      <th></th>\n",
       "      <th>Time</th>\n",
       "      <th>V1</th>\n",
       "      <th>V2</th>\n",
       "      <th>V3</th>\n",
       "      <th>V4</th>\n",
       "      <th>V5</th>\n",
       "      <th>V6</th>\n",
       "      <th>V7</th>\n",
       "      <th>V8</th>\n",
       "      <th>V9</th>\n",
       "      <th>...</th>\n",
       "      <th>V21</th>\n",
       "      <th>V22</th>\n",
       "      <th>V23</th>\n",
       "      <th>V24</th>\n",
       "      <th>V25</th>\n",
       "      <th>V26</th>\n",
       "      <th>V27</th>\n",
       "      <th>V28</th>\n",
       "      <th>Amount</th>\n",
       "      <th>Class</th>\n",
       "    </tr>\n",
       "  </thead>\n",
       "  <tbody>\n",
       "    <tr>\n",
       "      <th>0</th>\n",
       "      <td>0.0</td>\n",
       "      <td>-1.359807</td>\n",
       "      <td>-0.072781</td>\n",
       "      <td>2.536347</td>\n",
       "      <td>1.378155</td>\n",
       "      <td>-0.338321</td>\n",
       "      <td>0.462388</td>\n",
       "      <td>0.239599</td>\n",
       "      <td>0.098698</td>\n",
       "      <td>0.363787</td>\n",
       "      <td>...</td>\n",
       "      <td>-0.018307</td>\n",
       "      <td>0.277838</td>\n",
       "      <td>-0.110474</td>\n",
       "      <td>0.066928</td>\n",
       "      <td>0.128539</td>\n",
       "      <td>-0.189115</td>\n",
       "      <td>0.133558</td>\n",
       "      <td>-0.021053</td>\n",
       "      <td>149.62</td>\n",
       "      <td>0</td>\n",
       "    </tr>\n",
       "    <tr>\n",
       "      <th>1</th>\n",
       "      <td>0.0</td>\n",
       "      <td>1.191857</td>\n",
       "      <td>0.266151</td>\n",
       "      <td>0.166480</td>\n",
       "      <td>0.448154</td>\n",
       "      <td>0.060018</td>\n",
       "      <td>-0.082361</td>\n",
       "      <td>-0.078803</td>\n",
       "      <td>0.085102</td>\n",
       "      <td>-0.255425</td>\n",
       "      <td>...</td>\n",
       "      <td>-0.225775</td>\n",
       "      <td>-0.638672</td>\n",
       "      <td>0.101288</td>\n",
       "      <td>-0.339846</td>\n",
       "      <td>0.167170</td>\n",
       "      <td>0.125895</td>\n",
       "      <td>-0.008983</td>\n",
       "      <td>0.014724</td>\n",
       "      <td>2.69</td>\n",
       "      <td>0</td>\n",
       "    </tr>\n",
       "    <tr>\n",
       "      <th>2</th>\n",
       "      <td>1.0</td>\n",
       "      <td>-1.358354</td>\n",
       "      <td>-1.340163</td>\n",
       "      <td>1.773209</td>\n",
       "      <td>0.379780</td>\n",
       "      <td>-0.503198</td>\n",
       "      <td>1.800499</td>\n",
       "      <td>0.791461</td>\n",
       "      <td>0.247676</td>\n",
       "      <td>-1.514654</td>\n",
       "      <td>...</td>\n",
       "      <td>0.247998</td>\n",
       "      <td>0.771679</td>\n",
       "      <td>0.909412</td>\n",
       "      <td>-0.689281</td>\n",
       "      <td>-0.327642</td>\n",
       "      <td>-0.139097</td>\n",
       "      <td>-0.055353</td>\n",
       "      <td>-0.059752</td>\n",
       "      <td>378.66</td>\n",
       "      <td>0</td>\n",
       "    </tr>\n",
       "    <tr>\n",
       "      <th>3</th>\n",
       "      <td>1.0</td>\n",
       "      <td>-0.966272</td>\n",
       "      <td>-0.185226</td>\n",
       "      <td>1.792993</td>\n",
       "      <td>-0.863291</td>\n",
       "      <td>-0.010309</td>\n",
       "      <td>1.247203</td>\n",
       "      <td>0.237609</td>\n",
       "      <td>0.377436</td>\n",
       "      <td>-1.387024</td>\n",
       "      <td>...</td>\n",
       "      <td>-0.108300</td>\n",
       "      <td>0.005274</td>\n",
       "      <td>-0.190321</td>\n",
       "      <td>-1.175575</td>\n",
       "      <td>0.647376</td>\n",
       "      <td>-0.221929</td>\n",
       "      <td>0.062723</td>\n",
       "      <td>0.061458</td>\n",
       "      <td>123.50</td>\n",
       "      <td>0</td>\n",
       "    </tr>\n",
       "    <tr>\n",
       "      <th>4</th>\n",
       "      <td>2.0</td>\n",
       "      <td>-1.158233</td>\n",
       "      <td>0.877737</td>\n",
       "      <td>1.548718</td>\n",
       "      <td>0.403034</td>\n",
       "      <td>-0.407193</td>\n",
       "      <td>0.095921</td>\n",
       "      <td>0.592941</td>\n",
       "      <td>-0.270533</td>\n",
       "      <td>0.817739</td>\n",
       "      <td>...</td>\n",
       "      <td>-0.009431</td>\n",
       "      <td>0.798278</td>\n",
       "      <td>-0.137458</td>\n",
       "      <td>0.141267</td>\n",
       "      <td>-0.206010</td>\n",
       "      <td>0.502292</td>\n",
       "      <td>0.219422</td>\n",
       "      <td>0.215153</td>\n",
       "      <td>69.99</td>\n",
       "      <td>0</td>\n",
       "    </tr>\n",
       "  </tbody>\n",
       "</table>\n",
       "<p>5 rows × 31 columns</p>\n",
       "</div>"
      ],
      "text/plain": [
       "   Time        V1        V2        V3        V4        V5        V6        V7  \\\n",
       "0   0.0 -1.359807 -0.072781  2.536347  1.378155 -0.338321  0.462388  0.239599   \n",
       "1   0.0  1.191857  0.266151  0.166480  0.448154  0.060018 -0.082361 -0.078803   \n",
       "2   1.0 -1.358354 -1.340163  1.773209  0.379780 -0.503198  1.800499  0.791461   \n",
       "3   1.0 -0.966272 -0.185226  1.792993 -0.863291 -0.010309  1.247203  0.237609   \n",
       "4   2.0 -1.158233  0.877737  1.548718  0.403034 -0.407193  0.095921  0.592941   \n",
       "\n",
       "         V8        V9  ...       V21       V22       V23       V24       V25  \\\n",
       "0  0.098698  0.363787  ... -0.018307  0.277838 -0.110474  0.066928  0.128539   \n",
       "1  0.085102 -0.255425  ... -0.225775 -0.638672  0.101288 -0.339846  0.167170   \n",
       "2  0.247676 -1.514654  ...  0.247998  0.771679  0.909412 -0.689281 -0.327642   \n",
       "3  0.377436 -1.387024  ... -0.108300  0.005274 -0.190321 -1.175575  0.647376   \n",
       "4 -0.270533  0.817739  ... -0.009431  0.798278 -0.137458  0.141267 -0.206010   \n",
       "\n",
       "        V26       V27       V28  Amount  Class  \n",
       "0 -0.189115  0.133558 -0.021053  149.62      0  \n",
       "1  0.125895 -0.008983  0.014724    2.69      0  \n",
       "2 -0.139097 -0.055353 -0.059752  378.66      0  \n",
       "3 -0.221929  0.062723  0.061458  123.50      0  \n",
       "4  0.502292  0.219422  0.215153   69.99      0  \n",
       "\n",
       "[5 rows x 31 columns]"
      ]
     },
     "execution_count": 6,
     "metadata": {},
     "output_type": "execute_result"
    }
   ],
   "source": [
    "df.head()"
   ]
  },
  {
   "cell_type": "code",
   "execution_count": 7,
   "id": "44ac4a02",
   "metadata": {
    "scrolled": false
   },
   "outputs": [
    {
     "name": "stdout",
     "output_type": "stream",
     "text": [
      "<class 'pandas.core.frame.DataFrame'>\n",
      "RangeIndex: 284807 entries, 0 to 284806\n",
      "Data columns (total 31 columns):\n",
      " #   Column  Non-Null Count   Dtype  \n",
      "---  ------  --------------   -----  \n",
      " 0   Time    284807 non-null  float64\n",
      " 1   V1      284807 non-null  float64\n",
      " 2   V2      284807 non-null  float64\n",
      " 3   V3      284807 non-null  float64\n",
      " 4   V4      284807 non-null  float64\n",
      " 5   V5      284807 non-null  float64\n",
      " 6   V6      284807 non-null  float64\n",
      " 7   V7      284807 non-null  float64\n",
      " 8   V8      284807 non-null  float64\n",
      " 9   V9      284807 non-null  float64\n",
      " 10  V10     284807 non-null  float64\n",
      " 11  V11     284807 non-null  float64\n",
      " 12  V12     284807 non-null  float64\n",
      " 13  V13     284807 non-null  float64\n",
      " 14  V14     284807 non-null  float64\n",
      " 15  V15     284807 non-null  float64\n",
      " 16  V16     284807 non-null  float64\n",
      " 17  V17     284807 non-null  float64\n",
      " 18  V18     284807 non-null  float64\n",
      " 19  V19     284807 non-null  float64\n",
      " 20  V20     284807 non-null  float64\n",
      " 21  V21     284807 non-null  float64\n",
      " 22  V22     284807 non-null  float64\n",
      " 23  V23     284807 non-null  float64\n",
      " 24  V24     284807 non-null  float64\n",
      " 25  V25     284807 non-null  float64\n",
      " 26  V26     284807 non-null  float64\n",
      " 27  V27     284807 non-null  float64\n",
      " 28  V28     284807 non-null  float64\n",
      " 29  Amount  284807 non-null  float64\n",
      " 30  Class   284807 non-null  int64  \n",
      "dtypes: float64(30), int64(1)\n",
      "memory usage: 67.4 MB\n"
     ]
    }
   ],
   "source": [
    "df.info()"
   ]
  },
  {
   "cell_type": "code",
   "execution_count": 8,
   "id": "611fc9ed",
   "metadata": {},
   "outputs": [
    {
     "data": {
      "text/html": [
       "<div>\n",
       "<style scoped>\n",
       "    .dataframe tbody tr th:only-of-type {\n",
       "        vertical-align: middle;\n",
       "    }\n",
       "\n",
       "    .dataframe tbody tr th {\n",
       "        vertical-align: top;\n",
       "    }\n",
       "\n",
       "    .dataframe thead th {\n",
       "        text-align: right;\n",
       "    }\n",
       "</style>\n",
       "<table border=\"1\" class=\"dataframe\">\n",
       "  <thead>\n",
       "    <tr style=\"text-align: right;\">\n",
       "      <th></th>\n",
       "      <th>Time</th>\n",
       "      <th>V1</th>\n",
       "      <th>V2</th>\n",
       "      <th>V3</th>\n",
       "      <th>V4</th>\n",
       "      <th>V5</th>\n",
       "      <th>V6</th>\n",
       "      <th>V7</th>\n",
       "      <th>V8</th>\n",
       "      <th>V9</th>\n",
       "      <th>...</th>\n",
       "      <th>V21</th>\n",
       "      <th>V22</th>\n",
       "      <th>V23</th>\n",
       "      <th>V24</th>\n",
       "      <th>V25</th>\n",
       "      <th>V26</th>\n",
       "      <th>V27</th>\n",
       "      <th>V28</th>\n",
       "      <th>Amount</th>\n",
       "      <th>Class</th>\n",
       "    </tr>\n",
       "  </thead>\n",
       "  <tbody>\n",
       "    <tr>\n",
       "      <th>count</th>\n",
       "      <td>284807.000000</td>\n",
       "      <td>2.848070e+05</td>\n",
       "      <td>2.848070e+05</td>\n",
       "      <td>2.848070e+05</td>\n",
       "      <td>2.848070e+05</td>\n",
       "      <td>2.848070e+05</td>\n",
       "      <td>2.848070e+05</td>\n",
       "      <td>2.848070e+05</td>\n",
       "      <td>2.848070e+05</td>\n",
       "      <td>2.848070e+05</td>\n",
       "      <td>...</td>\n",
       "      <td>2.848070e+05</td>\n",
       "      <td>2.848070e+05</td>\n",
       "      <td>2.848070e+05</td>\n",
       "      <td>2.848070e+05</td>\n",
       "      <td>2.848070e+05</td>\n",
       "      <td>2.848070e+05</td>\n",
       "      <td>2.848070e+05</td>\n",
       "      <td>2.848070e+05</td>\n",
       "      <td>284807.000000</td>\n",
       "      <td>284807.000000</td>\n",
       "    </tr>\n",
       "    <tr>\n",
       "      <th>mean</th>\n",
       "      <td>94813.859575</td>\n",
       "      <td>1.168375e-15</td>\n",
       "      <td>3.416908e-16</td>\n",
       "      <td>-1.379537e-15</td>\n",
       "      <td>2.074095e-15</td>\n",
       "      <td>9.604066e-16</td>\n",
       "      <td>1.487313e-15</td>\n",
       "      <td>-5.556467e-16</td>\n",
       "      <td>1.213481e-16</td>\n",
       "      <td>-2.406331e-15</td>\n",
       "      <td>...</td>\n",
       "      <td>1.654067e-16</td>\n",
       "      <td>-3.568593e-16</td>\n",
       "      <td>2.578648e-16</td>\n",
       "      <td>4.473266e-15</td>\n",
       "      <td>5.340915e-16</td>\n",
       "      <td>1.683437e-15</td>\n",
       "      <td>-3.660091e-16</td>\n",
       "      <td>-1.227390e-16</td>\n",
       "      <td>88.349619</td>\n",
       "      <td>0.001727</td>\n",
       "    </tr>\n",
       "    <tr>\n",
       "      <th>std</th>\n",
       "      <td>47488.145955</td>\n",
       "      <td>1.958696e+00</td>\n",
       "      <td>1.651309e+00</td>\n",
       "      <td>1.516255e+00</td>\n",
       "      <td>1.415869e+00</td>\n",
       "      <td>1.380247e+00</td>\n",
       "      <td>1.332271e+00</td>\n",
       "      <td>1.237094e+00</td>\n",
       "      <td>1.194353e+00</td>\n",
       "      <td>1.098632e+00</td>\n",
       "      <td>...</td>\n",
       "      <td>7.345240e-01</td>\n",
       "      <td>7.257016e-01</td>\n",
       "      <td>6.244603e-01</td>\n",
       "      <td>6.056471e-01</td>\n",
       "      <td>5.212781e-01</td>\n",
       "      <td>4.822270e-01</td>\n",
       "      <td>4.036325e-01</td>\n",
       "      <td>3.300833e-01</td>\n",
       "      <td>250.120109</td>\n",
       "      <td>0.041527</td>\n",
       "    </tr>\n",
       "    <tr>\n",
       "      <th>min</th>\n",
       "      <td>0.000000</td>\n",
       "      <td>-5.640751e+01</td>\n",
       "      <td>-7.271573e+01</td>\n",
       "      <td>-4.832559e+01</td>\n",
       "      <td>-5.683171e+00</td>\n",
       "      <td>-1.137433e+02</td>\n",
       "      <td>-2.616051e+01</td>\n",
       "      <td>-4.355724e+01</td>\n",
       "      <td>-7.321672e+01</td>\n",
       "      <td>-1.343407e+01</td>\n",
       "      <td>...</td>\n",
       "      <td>-3.483038e+01</td>\n",
       "      <td>-1.093314e+01</td>\n",
       "      <td>-4.480774e+01</td>\n",
       "      <td>-2.836627e+00</td>\n",
       "      <td>-1.029540e+01</td>\n",
       "      <td>-2.604551e+00</td>\n",
       "      <td>-2.256568e+01</td>\n",
       "      <td>-1.543008e+01</td>\n",
       "      <td>0.000000</td>\n",
       "      <td>0.000000</td>\n",
       "    </tr>\n",
       "    <tr>\n",
       "      <th>25%</th>\n",
       "      <td>54201.500000</td>\n",
       "      <td>-9.203734e-01</td>\n",
       "      <td>-5.985499e-01</td>\n",
       "      <td>-8.903648e-01</td>\n",
       "      <td>-8.486401e-01</td>\n",
       "      <td>-6.915971e-01</td>\n",
       "      <td>-7.682956e-01</td>\n",
       "      <td>-5.540759e-01</td>\n",
       "      <td>-2.086297e-01</td>\n",
       "      <td>-6.430976e-01</td>\n",
       "      <td>...</td>\n",
       "      <td>-2.283949e-01</td>\n",
       "      <td>-5.423504e-01</td>\n",
       "      <td>-1.618463e-01</td>\n",
       "      <td>-3.545861e-01</td>\n",
       "      <td>-3.171451e-01</td>\n",
       "      <td>-3.269839e-01</td>\n",
       "      <td>-7.083953e-02</td>\n",
       "      <td>-5.295979e-02</td>\n",
       "      <td>5.600000</td>\n",
       "      <td>0.000000</td>\n",
       "    </tr>\n",
       "    <tr>\n",
       "      <th>50%</th>\n",
       "      <td>84692.000000</td>\n",
       "      <td>1.810880e-02</td>\n",
       "      <td>6.548556e-02</td>\n",
       "      <td>1.798463e-01</td>\n",
       "      <td>-1.984653e-02</td>\n",
       "      <td>-5.433583e-02</td>\n",
       "      <td>-2.741871e-01</td>\n",
       "      <td>4.010308e-02</td>\n",
       "      <td>2.235804e-02</td>\n",
       "      <td>-5.142873e-02</td>\n",
       "      <td>...</td>\n",
       "      <td>-2.945017e-02</td>\n",
       "      <td>6.781943e-03</td>\n",
       "      <td>-1.119293e-02</td>\n",
       "      <td>4.097606e-02</td>\n",
       "      <td>1.659350e-02</td>\n",
       "      <td>-5.213911e-02</td>\n",
       "      <td>1.342146e-03</td>\n",
       "      <td>1.124383e-02</td>\n",
       "      <td>22.000000</td>\n",
       "      <td>0.000000</td>\n",
       "    </tr>\n",
       "    <tr>\n",
       "      <th>75%</th>\n",
       "      <td>139320.500000</td>\n",
       "      <td>1.315642e+00</td>\n",
       "      <td>8.037239e-01</td>\n",
       "      <td>1.027196e+00</td>\n",
       "      <td>7.433413e-01</td>\n",
       "      <td>6.119264e-01</td>\n",
       "      <td>3.985649e-01</td>\n",
       "      <td>5.704361e-01</td>\n",
       "      <td>3.273459e-01</td>\n",
       "      <td>5.971390e-01</td>\n",
       "      <td>...</td>\n",
       "      <td>1.863772e-01</td>\n",
       "      <td>5.285536e-01</td>\n",
       "      <td>1.476421e-01</td>\n",
       "      <td>4.395266e-01</td>\n",
       "      <td>3.507156e-01</td>\n",
       "      <td>2.409522e-01</td>\n",
       "      <td>9.104512e-02</td>\n",
       "      <td>7.827995e-02</td>\n",
       "      <td>77.165000</td>\n",
       "      <td>0.000000</td>\n",
       "    </tr>\n",
       "    <tr>\n",
       "      <th>max</th>\n",
       "      <td>172792.000000</td>\n",
       "      <td>2.454930e+00</td>\n",
       "      <td>2.205773e+01</td>\n",
       "      <td>9.382558e+00</td>\n",
       "      <td>1.687534e+01</td>\n",
       "      <td>3.480167e+01</td>\n",
       "      <td>7.330163e+01</td>\n",
       "      <td>1.205895e+02</td>\n",
       "      <td>2.000721e+01</td>\n",
       "      <td>1.559499e+01</td>\n",
       "      <td>...</td>\n",
       "      <td>2.720284e+01</td>\n",
       "      <td>1.050309e+01</td>\n",
       "      <td>2.252841e+01</td>\n",
       "      <td>4.584549e+00</td>\n",
       "      <td>7.519589e+00</td>\n",
       "      <td>3.517346e+00</td>\n",
       "      <td>3.161220e+01</td>\n",
       "      <td>3.384781e+01</td>\n",
       "      <td>25691.160000</td>\n",
       "      <td>1.000000</td>\n",
       "    </tr>\n",
       "  </tbody>\n",
       "</table>\n",
       "<p>8 rows × 31 columns</p>\n",
       "</div>"
      ],
      "text/plain": [
       "                Time            V1            V2            V3            V4  \\\n",
       "count  284807.000000  2.848070e+05  2.848070e+05  2.848070e+05  2.848070e+05   \n",
       "mean    94813.859575  1.168375e-15  3.416908e-16 -1.379537e-15  2.074095e-15   \n",
       "std     47488.145955  1.958696e+00  1.651309e+00  1.516255e+00  1.415869e+00   \n",
       "min         0.000000 -5.640751e+01 -7.271573e+01 -4.832559e+01 -5.683171e+00   \n",
       "25%     54201.500000 -9.203734e-01 -5.985499e-01 -8.903648e-01 -8.486401e-01   \n",
       "50%     84692.000000  1.810880e-02  6.548556e-02  1.798463e-01 -1.984653e-02   \n",
       "75%    139320.500000  1.315642e+00  8.037239e-01  1.027196e+00  7.433413e-01   \n",
       "max    172792.000000  2.454930e+00  2.205773e+01  9.382558e+00  1.687534e+01   \n",
       "\n",
       "                 V5            V6            V7            V8            V9  \\\n",
       "count  2.848070e+05  2.848070e+05  2.848070e+05  2.848070e+05  2.848070e+05   \n",
       "mean   9.604066e-16  1.487313e-15 -5.556467e-16  1.213481e-16 -2.406331e-15   \n",
       "std    1.380247e+00  1.332271e+00  1.237094e+00  1.194353e+00  1.098632e+00   \n",
       "min   -1.137433e+02 -2.616051e+01 -4.355724e+01 -7.321672e+01 -1.343407e+01   \n",
       "25%   -6.915971e-01 -7.682956e-01 -5.540759e-01 -2.086297e-01 -6.430976e-01   \n",
       "50%   -5.433583e-02 -2.741871e-01  4.010308e-02  2.235804e-02 -5.142873e-02   \n",
       "75%    6.119264e-01  3.985649e-01  5.704361e-01  3.273459e-01  5.971390e-01   \n",
       "max    3.480167e+01  7.330163e+01  1.205895e+02  2.000721e+01  1.559499e+01   \n",
       "\n",
       "       ...           V21           V22           V23           V24  \\\n",
       "count  ...  2.848070e+05  2.848070e+05  2.848070e+05  2.848070e+05   \n",
       "mean   ...  1.654067e-16 -3.568593e-16  2.578648e-16  4.473266e-15   \n",
       "std    ...  7.345240e-01  7.257016e-01  6.244603e-01  6.056471e-01   \n",
       "min    ... -3.483038e+01 -1.093314e+01 -4.480774e+01 -2.836627e+00   \n",
       "25%    ... -2.283949e-01 -5.423504e-01 -1.618463e-01 -3.545861e-01   \n",
       "50%    ... -2.945017e-02  6.781943e-03 -1.119293e-02  4.097606e-02   \n",
       "75%    ...  1.863772e-01  5.285536e-01  1.476421e-01  4.395266e-01   \n",
       "max    ...  2.720284e+01  1.050309e+01  2.252841e+01  4.584549e+00   \n",
       "\n",
       "                V25           V26           V27           V28         Amount  \\\n",
       "count  2.848070e+05  2.848070e+05  2.848070e+05  2.848070e+05  284807.000000   \n",
       "mean   5.340915e-16  1.683437e-15 -3.660091e-16 -1.227390e-16      88.349619   \n",
       "std    5.212781e-01  4.822270e-01  4.036325e-01  3.300833e-01     250.120109   \n",
       "min   -1.029540e+01 -2.604551e+00 -2.256568e+01 -1.543008e+01       0.000000   \n",
       "25%   -3.171451e-01 -3.269839e-01 -7.083953e-02 -5.295979e-02       5.600000   \n",
       "50%    1.659350e-02 -5.213911e-02  1.342146e-03  1.124383e-02      22.000000   \n",
       "75%    3.507156e-01  2.409522e-01  9.104512e-02  7.827995e-02      77.165000   \n",
       "max    7.519589e+00  3.517346e+00  3.161220e+01  3.384781e+01   25691.160000   \n",
       "\n",
       "               Class  \n",
       "count  284807.000000  \n",
       "mean        0.001727  \n",
       "std         0.041527  \n",
       "min         0.000000  \n",
       "25%         0.000000  \n",
       "50%         0.000000  \n",
       "75%         0.000000  \n",
       "max         1.000000  \n",
       "\n",
       "[8 rows x 31 columns]"
      ]
     },
     "execution_count": 8,
     "metadata": {},
     "output_type": "execute_result"
    }
   ],
   "source": [
    "df.describe()"
   ]
  },
  {
   "cell_type": "code",
   "execution_count": 9,
   "id": "79cc698f",
   "metadata": {},
   "outputs": [
    {
     "data": {
      "text/html": [
       "<div>\n",
       "<style scoped>\n",
       "    .dataframe tbody tr th:only-of-type {\n",
       "        vertical-align: middle;\n",
       "    }\n",
       "\n",
       "    .dataframe tbody tr th {\n",
       "        vertical-align: top;\n",
       "    }\n",
       "\n",
       "    .dataframe thead th {\n",
       "        text-align: right;\n",
       "    }\n",
       "</style>\n",
       "<table border=\"1\" class=\"dataframe\">\n",
       "  <thead>\n",
       "    <tr style=\"text-align: right;\">\n",
       "      <th></th>\n",
       "      <th>Time</th>\n",
       "      <th>V1</th>\n",
       "      <th>V2</th>\n",
       "      <th>V3</th>\n",
       "      <th>V4</th>\n",
       "      <th>V5</th>\n",
       "      <th>V6</th>\n",
       "      <th>V7</th>\n",
       "      <th>V8</th>\n",
       "      <th>V9</th>\n",
       "      <th>...</th>\n",
       "      <th>V21</th>\n",
       "      <th>V22</th>\n",
       "      <th>V23</th>\n",
       "      <th>V24</th>\n",
       "      <th>V25</th>\n",
       "      <th>V26</th>\n",
       "      <th>V27</th>\n",
       "      <th>V28</th>\n",
       "      <th>Amount</th>\n",
       "      <th>Class</th>\n",
       "    </tr>\n",
       "  </thead>\n",
       "  <tbody>\n",
       "    <tr>\n",
       "      <th>Time</th>\n",
       "      <td>1.000000</td>\n",
       "      <td>1.173963e-01</td>\n",
       "      <td>-1.059333e-02</td>\n",
       "      <td>-4.196182e-01</td>\n",
       "      <td>-1.052602e-01</td>\n",
       "      <td>1.730721e-01</td>\n",
       "      <td>-6.301647e-02</td>\n",
       "      <td>8.471437e-02</td>\n",
       "      <td>-3.694943e-02</td>\n",
       "      <td>-8.660434e-03</td>\n",
       "      <td>...</td>\n",
       "      <td>4.473573e-02</td>\n",
       "      <td>1.440591e-01</td>\n",
       "      <td>5.114236e-02</td>\n",
       "      <td>-1.618187e-02</td>\n",
       "      <td>-2.330828e-01</td>\n",
       "      <td>-4.140710e-02</td>\n",
       "      <td>-5.134591e-03</td>\n",
       "      <td>-9.412688e-03</td>\n",
       "      <td>-0.010596</td>\n",
       "      <td>-0.012323</td>\n",
       "    </tr>\n",
       "    <tr>\n",
       "      <th>V1</th>\n",
       "      <td>0.117396</td>\n",
       "      <td>1.000000e+00</td>\n",
       "      <td>4.135835e-16</td>\n",
       "      <td>-1.227819e-15</td>\n",
       "      <td>-9.215150e-16</td>\n",
       "      <td>1.812612e-17</td>\n",
       "      <td>-6.506567e-16</td>\n",
       "      <td>-1.005191e-15</td>\n",
       "      <td>-2.433822e-16</td>\n",
       "      <td>-1.513678e-16</td>\n",
       "      <td>...</td>\n",
       "      <td>-2.457409e-16</td>\n",
       "      <td>-4.290944e-16</td>\n",
       "      <td>6.168652e-16</td>\n",
       "      <td>-4.425156e-17</td>\n",
       "      <td>-9.605737e-16</td>\n",
       "      <td>-1.581290e-17</td>\n",
       "      <td>1.198124e-16</td>\n",
       "      <td>2.083082e-15</td>\n",
       "      <td>-0.227709</td>\n",
       "      <td>-0.101347</td>\n",
       "    </tr>\n",
       "    <tr>\n",
       "      <th>V2</th>\n",
       "      <td>-0.010593</td>\n",
       "      <td>4.135835e-16</td>\n",
       "      <td>1.000000e+00</td>\n",
       "      <td>3.243764e-16</td>\n",
       "      <td>-1.121065e-15</td>\n",
       "      <td>5.157519e-16</td>\n",
       "      <td>2.787346e-16</td>\n",
       "      <td>2.055934e-16</td>\n",
       "      <td>-5.377041e-17</td>\n",
       "      <td>1.978488e-17</td>\n",
       "      <td>...</td>\n",
       "      <td>-8.480447e-17</td>\n",
       "      <td>1.526333e-16</td>\n",
       "      <td>1.634231e-16</td>\n",
       "      <td>1.247925e-17</td>\n",
       "      <td>-4.478846e-16</td>\n",
       "      <td>2.057310e-16</td>\n",
       "      <td>-4.966953e-16</td>\n",
       "      <td>-5.093836e-16</td>\n",
       "      <td>-0.531409</td>\n",
       "      <td>0.091289</td>\n",
       "    </tr>\n",
       "    <tr>\n",
       "      <th>V3</th>\n",
       "      <td>-0.419618</td>\n",
       "      <td>-1.227819e-15</td>\n",
       "      <td>3.243764e-16</td>\n",
       "      <td>1.000000e+00</td>\n",
       "      <td>4.711293e-16</td>\n",
       "      <td>-6.539009e-17</td>\n",
       "      <td>1.627627e-15</td>\n",
       "      <td>4.895305e-16</td>\n",
       "      <td>-1.268779e-15</td>\n",
       "      <td>5.568367e-16</td>\n",
       "      <td>...</td>\n",
       "      <td>5.706192e-17</td>\n",
       "      <td>-1.133902e-15</td>\n",
       "      <td>-4.983035e-16</td>\n",
       "      <td>2.686834e-19</td>\n",
       "      <td>-1.104734e-15</td>\n",
       "      <td>-1.238062e-16</td>\n",
       "      <td>1.045747e-15</td>\n",
       "      <td>9.775546e-16</td>\n",
       "      <td>-0.210880</td>\n",
       "      <td>-0.192961</td>\n",
       "    </tr>\n",
       "    <tr>\n",
       "      <th>V4</th>\n",
       "      <td>-0.105260</td>\n",
       "      <td>-9.215150e-16</td>\n",
       "      <td>-1.121065e-15</td>\n",
       "      <td>4.711293e-16</td>\n",
       "      <td>1.000000e+00</td>\n",
       "      <td>-1.719944e-15</td>\n",
       "      <td>-7.491959e-16</td>\n",
       "      <td>-4.104503e-16</td>\n",
       "      <td>5.697192e-16</td>\n",
       "      <td>6.923247e-16</td>\n",
       "      <td>...</td>\n",
       "      <td>-1.949553e-16</td>\n",
       "      <td>-6.276051e-17</td>\n",
       "      <td>9.164206e-17</td>\n",
       "      <td>1.584638e-16</td>\n",
       "      <td>6.070716e-16</td>\n",
       "      <td>-4.247268e-16</td>\n",
       "      <td>3.977061e-17</td>\n",
       "      <td>-2.761403e-18</td>\n",
       "      <td>0.098732</td>\n",
       "      <td>0.133447</td>\n",
       "    </tr>\n",
       "  </tbody>\n",
       "</table>\n",
       "<p>5 rows × 31 columns</p>\n",
       "</div>"
      ],
      "text/plain": [
       "          Time            V1            V2            V3            V4  \\\n",
       "Time  1.000000  1.173963e-01 -1.059333e-02 -4.196182e-01 -1.052602e-01   \n",
       "V1    0.117396  1.000000e+00  4.135835e-16 -1.227819e-15 -9.215150e-16   \n",
       "V2   -0.010593  4.135835e-16  1.000000e+00  3.243764e-16 -1.121065e-15   \n",
       "V3   -0.419618 -1.227819e-15  3.243764e-16  1.000000e+00  4.711293e-16   \n",
       "V4   -0.105260 -9.215150e-16 -1.121065e-15  4.711293e-16  1.000000e+00   \n",
       "\n",
       "                V5            V6            V7            V8            V9  \\\n",
       "Time  1.730721e-01 -6.301647e-02  8.471437e-02 -3.694943e-02 -8.660434e-03   \n",
       "V1    1.812612e-17 -6.506567e-16 -1.005191e-15 -2.433822e-16 -1.513678e-16   \n",
       "V2    5.157519e-16  2.787346e-16  2.055934e-16 -5.377041e-17  1.978488e-17   \n",
       "V3   -6.539009e-17  1.627627e-15  4.895305e-16 -1.268779e-15  5.568367e-16   \n",
       "V4   -1.719944e-15 -7.491959e-16 -4.104503e-16  5.697192e-16  6.923247e-16   \n",
       "\n",
       "      ...           V21           V22           V23           V24  \\\n",
       "Time  ...  4.473573e-02  1.440591e-01  5.114236e-02 -1.618187e-02   \n",
       "V1    ... -2.457409e-16 -4.290944e-16  6.168652e-16 -4.425156e-17   \n",
       "V2    ... -8.480447e-17  1.526333e-16  1.634231e-16  1.247925e-17   \n",
       "V3    ...  5.706192e-17 -1.133902e-15 -4.983035e-16  2.686834e-19   \n",
       "V4    ... -1.949553e-16 -6.276051e-17  9.164206e-17  1.584638e-16   \n",
       "\n",
       "               V25           V26           V27           V28    Amount  \\\n",
       "Time -2.330828e-01 -4.140710e-02 -5.134591e-03 -9.412688e-03 -0.010596   \n",
       "V1   -9.605737e-16 -1.581290e-17  1.198124e-16  2.083082e-15 -0.227709   \n",
       "V2   -4.478846e-16  2.057310e-16 -4.966953e-16 -5.093836e-16 -0.531409   \n",
       "V3   -1.104734e-15 -1.238062e-16  1.045747e-15  9.775546e-16 -0.210880   \n",
       "V4    6.070716e-16 -4.247268e-16  3.977061e-17 -2.761403e-18  0.098732   \n",
       "\n",
       "         Class  \n",
       "Time -0.012323  \n",
       "V1   -0.101347  \n",
       "V2    0.091289  \n",
       "V3   -0.192961  \n",
       "V4    0.133447  \n",
       "\n",
       "[5 rows x 31 columns]"
      ]
     },
     "execution_count": 9,
     "metadata": {},
     "output_type": "execute_result"
    }
   ],
   "source": [
    "df.corr().head()"
   ]
  },
  {
   "cell_type": "code",
   "execution_count": 10,
   "id": "879a2642",
   "metadata": {},
   "outputs": [
    {
     "data": {
      "text/plain": [
       "Time    2.255124e+09\n",
       "V1      3.836489e+00\n",
       "V2      2.726820e+00\n",
       "V3      2.299029e+00\n",
       "V4      2.004684e+00\n",
       "dtype: float64"
      ]
     },
     "execution_count": 10,
     "metadata": {},
     "output_type": "execute_result"
    }
   ],
   "source": [
    "df.var().head()"
   ]
  },
  {
   "cell_type": "markdown",
   "id": "5a4a013c",
   "metadata": {},
   "source": [
    "**Check For missing values** "
   ]
  },
  {
   "cell_type": "code",
   "execution_count": 11,
   "id": "17f455cb",
   "metadata": {},
   "outputs": [
    {
     "data": {
      "text/plain": [
       "Time      0\n",
       "V1        0\n",
       "V2        0\n",
       "V3        0\n",
       "V4        0\n",
       "V5        0\n",
       "V6        0\n",
       "V7        0\n",
       "V8        0\n",
       "V9        0\n",
       "V10       0\n",
       "V11       0\n",
       "V12       0\n",
       "V13       0\n",
       "V14       0\n",
       "V15       0\n",
       "V16       0\n",
       "V17       0\n",
       "V18       0\n",
       "V19       0\n",
       "V20       0\n",
       "V21       0\n",
       "V22       0\n",
       "V23       0\n",
       "V24       0\n",
       "V25       0\n",
       "V26       0\n",
       "V27       0\n",
       "V28       0\n",
       "Amount    0\n",
       "Class     0\n",
       "dtype: int64"
      ]
     },
     "execution_count": 11,
     "metadata": {},
     "output_type": "execute_result"
    }
   ],
   "source": [
    "df.isnull().sum()"
   ]
  },
  {
   "cell_type": "markdown",
   "id": "39e8cd5c",
   "metadata": {},
   "source": [
    "\n",
    "\n",
    "**About the data**\n",
    "* There are 31 columns and 25K+ rows.\n",
    "* As we can see below there are no missing values in our dataset .\n",
    "* There are no null values .\n",
    "* Lastly all the columns contains Numerical values.\n",
    "* Here class is the target column for us. [ If class = 0 that is a normal transaction and if class = 1 that is fraud transaction ]"
   ]
  },
  {
   "cell_type": "code",
   "execution_count": 12,
   "id": "bcf64a47",
   "metadata": {},
   "outputs": [
    {
     "data": {
      "text/plain": [
       "Class\n",
       "0    284315\n",
       "1       492\n",
       "Name: count, dtype: int64"
      ]
     },
     "execution_count": 12,
     "metadata": {},
     "output_type": "execute_result"
    }
   ],
   "source": [
    "df['Class'].value_counts()"
   ]
  },
  {
   "cell_type": "markdown",
   "id": "5b070995",
   "metadata": {},
   "source": [
    "* As we can see the data is imbalanced \n",
    "* The number of 0 [Normal Transaction] > > >  1 [ Fraud Transaction ]\n",
    "* If we train our model with this dataset our model will give biased result. \n"
   ]
  },
  {
   "cell_type": "markdown",
   "id": "3a3951bf",
   "metadata": {},
   "source": [
    "# EDA \n"
   ]
  },
  {
   "cell_type": "markdown",
   "id": "41aeaaed",
   "metadata": {},
   "source": [
    "* EDA with Pandas Profiling"
   ]
  },
  {
   "cell_type": "code",
   "execution_count": 13,
   "id": "7fcbf19e",
   "metadata": {},
   "outputs": [],
   "source": [
    "#!pip install pandas-profiling "
   ]
  },
  {
   "cell_type": "code",
   "execution_count": 14,
   "id": "fa75242f",
   "metadata": {},
   "outputs": [],
   "source": [
    "#please remove the '#' before executing this column \n",
    "\n",
    "# from pandas_profiling import ProfileReport\n",
    "# prof = ProfileReport(df)\n",
    "# prof.to_file(output_file='eda_dataset.html')"
   ]
  },
  {
   "cell_type": "code",
   "execution_count": null,
   "id": "529ab9c9",
   "metadata": {},
   "outputs": [],
   "source": []
  },
  {
   "cell_type": "markdown",
   "id": "441fd2a8",
   "metadata": {},
   "source": [
    "**Separating the data for analysis**"
   ]
  },
  {
   "cell_type": "code",
   "execution_count": 15,
   "id": "1a50a7b1",
   "metadata": {},
   "outputs": [],
   "source": [
    "normal_transactions = df[df.Class == 0 ]\n",
    "fraud_transaction = df[df.Class ==1]"
   ]
  },
  {
   "cell_type": "code",
   "execution_count": 16,
   "id": "8cdaed66",
   "metadata": {},
   "outputs": [
    {
     "name": "stdout",
     "output_type": "stream",
     "text": [
      "(284315, 31)\n",
      "(492, 31)\n"
     ]
    }
   ],
   "source": [
    "print(normal_transactions.shape)\n",
    "print(fraud_transaction.shape)"
   ]
  },
  {
   "cell_type": "markdown",
   "id": "e6f49402",
   "metadata": {},
   "source": [
    "* We are taking amount column because using of credit card as normal or fraud can be separated by the amount of money used from that credit card. "
   ]
  },
  {
   "cell_type": "code",
   "execution_count": 17,
   "id": "68d05478",
   "metadata": {},
   "outputs": [
    {
     "data": {
      "text/plain": [
       "count    284315.000000\n",
       "mean         88.291022\n",
       "std         250.105092\n",
       "min           0.000000\n",
       "25%           5.650000\n",
       "50%          22.000000\n",
       "75%          77.050000\n",
       "max       25691.160000\n",
       "Name: Amount, dtype: float64"
      ]
     },
     "execution_count": 17,
     "metadata": {},
     "output_type": "execute_result"
    }
   ],
   "source": [
    "normal_transactions.Amount.describe()"
   ]
  },
  {
   "cell_type": "code",
   "execution_count": 18,
   "id": "763d266f",
   "metadata": {},
   "outputs": [
    {
     "data": {
      "text/plain": [
       "count     492.000000\n",
       "mean      122.211321\n",
       "std       256.683288\n",
       "min         0.000000\n",
       "25%         1.000000\n",
       "50%         9.250000\n",
       "75%       105.890000\n",
       "max      2125.870000\n",
       "Name: Amount, dtype: float64"
      ]
     },
     "execution_count": 18,
     "metadata": {},
     "output_type": "execute_result"
    }
   ],
   "source": [
    "fraud_transaction.Amount.describe()"
   ]
  },
  {
   "cell_type": "markdown",
   "id": "8241cdba",
   "metadata": {},
   "source": [
    "* As we can see by using describe() function that the mean of fraud transaction is much higher than the mean of normal transactions. "
   ]
  },
  {
   "cell_type": "markdown",
   "id": "6c1a22f5",
   "metadata": {},
   "source": [
    "**Comparing the two columns**"
   ]
  },
  {
   "cell_type": "code",
   "execution_count": 19,
   "id": "f903d2ab",
   "metadata": {},
   "outputs": [
    {
     "data": {
      "text/html": [
       "<div>\n",
       "<style scoped>\n",
       "    .dataframe tbody tr th:only-of-type {\n",
       "        vertical-align: middle;\n",
       "    }\n",
       "\n",
       "    .dataframe tbody tr th {\n",
       "        vertical-align: top;\n",
       "    }\n",
       "\n",
       "    .dataframe thead th {\n",
       "        text-align: right;\n",
       "    }\n",
       "</style>\n",
       "<table border=\"1\" class=\"dataframe\">\n",
       "  <thead>\n",
       "    <tr style=\"text-align: right;\">\n",
       "      <th></th>\n",
       "      <th>Time</th>\n",
       "      <th>V1</th>\n",
       "      <th>V2</th>\n",
       "      <th>V3</th>\n",
       "      <th>V4</th>\n",
       "      <th>V5</th>\n",
       "      <th>V6</th>\n",
       "      <th>V7</th>\n",
       "      <th>V8</th>\n",
       "      <th>V9</th>\n",
       "      <th>...</th>\n",
       "      <th>V20</th>\n",
       "      <th>V21</th>\n",
       "      <th>V22</th>\n",
       "      <th>V23</th>\n",
       "      <th>V24</th>\n",
       "      <th>V25</th>\n",
       "      <th>V26</th>\n",
       "      <th>V27</th>\n",
       "      <th>V28</th>\n",
       "      <th>Amount</th>\n",
       "    </tr>\n",
       "    <tr>\n",
       "      <th>Class</th>\n",
       "      <th></th>\n",
       "      <th></th>\n",
       "      <th></th>\n",
       "      <th></th>\n",
       "      <th></th>\n",
       "      <th></th>\n",
       "      <th></th>\n",
       "      <th></th>\n",
       "      <th></th>\n",
       "      <th></th>\n",
       "      <th></th>\n",
       "      <th></th>\n",
       "      <th></th>\n",
       "      <th></th>\n",
       "      <th></th>\n",
       "      <th></th>\n",
       "      <th></th>\n",
       "      <th></th>\n",
       "      <th></th>\n",
       "      <th></th>\n",
       "      <th></th>\n",
       "    </tr>\n",
       "  </thead>\n",
       "  <tbody>\n",
       "    <tr>\n",
       "      <th>0</th>\n",
       "      <td>94838.202258</td>\n",
       "      <td>0.008258</td>\n",
       "      <td>-0.006271</td>\n",
       "      <td>0.012171</td>\n",
       "      <td>-0.007860</td>\n",
       "      <td>0.005453</td>\n",
       "      <td>0.002419</td>\n",
       "      <td>0.009637</td>\n",
       "      <td>-0.000987</td>\n",
       "      <td>0.004467</td>\n",
       "      <td>...</td>\n",
       "      <td>-0.000644</td>\n",
       "      <td>-0.001235</td>\n",
       "      <td>-0.000024</td>\n",
       "      <td>0.000070</td>\n",
       "      <td>0.000182</td>\n",
       "      <td>-0.000072</td>\n",
       "      <td>-0.000089</td>\n",
       "      <td>-0.000295</td>\n",
       "      <td>-0.000131</td>\n",
       "      <td>88.291022</td>\n",
       "    </tr>\n",
       "    <tr>\n",
       "      <th>1</th>\n",
       "      <td>80746.806911</td>\n",
       "      <td>-4.771948</td>\n",
       "      <td>3.623778</td>\n",
       "      <td>-7.033281</td>\n",
       "      <td>4.542029</td>\n",
       "      <td>-3.151225</td>\n",
       "      <td>-1.397737</td>\n",
       "      <td>-5.568731</td>\n",
       "      <td>0.570636</td>\n",
       "      <td>-2.581123</td>\n",
       "      <td>...</td>\n",
       "      <td>0.372319</td>\n",
       "      <td>0.713588</td>\n",
       "      <td>0.014049</td>\n",
       "      <td>-0.040308</td>\n",
       "      <td>-0.105130</td>\n",
       "      <td>0.041449</td>\n",
       "      <td>0.051648</td>\n",
       "      <td>0.170575</td>\n",
       "      <td>0.075667</td>\n",
       "      <td>122.211321</td>\n",
       "    </tr>\n",
       "  </tbody>\n",
       "</table>\n",
       "<p>2 rows × 30 columns</p>\n",
       "</div>"
      ],
      "text/plain": [
       "               Time        V1        V2        V3        V4        V5  \\\n",
       "Class                                                                   \n",
       "0      94838.202258  0.008258 -0.006271  0.012171 -0.007860  0.005453   \n",
       "1      80746.806911 -4.771948  3.623778 -7.033281  4.542029 -3.151225   \n",
       "\n",
       "             V6        V7        V8        V9  ...       V20       V21  \\\n",
       "Class                                          ...                       \n",
       "0      0.002419  0.009637 -0.000987  0.004467  ... -0.000644 -0.001235   \n",
       "1     -1.397737 -5.568731  0.570636 -2.581123  ...  0.372319  0.713588   \n",
       "\n",
       "            V22       V23       V24       V25       V26       V27       V28  \\\n",
       "Class                                                                         \n",
       "0     -0.000024  0.000070  0.000182 -0.000072 -0.000089 -0.000295 -0.000131   \n",
       "1      0.014049 -0.040308 -0.105130  0.041449  0.051648  0.170575  0.075667   \n",
       "\n",
       "           Amount  \n",
       "Class              \n",
       "0       88.291022  \n",
       "1      122.211321  \n",
       "\n",
       "[2 rows x 30 columns]"
      ]
     },
     "execution_count": 19,
     "metadata": {},
     "output_type": "execute_result"
    }
   ],
   "source": [
    "df.groupby('Class').mean()"
   ]
  },
  {
   "cell_type": "markdown",
   "id": "a260629f",
   "metadata": {},
   "source": [
    "* This comparison of two columns is important for us because we can see the differences of two columns. \n",
    "* Our model can learn from this difference and classify which transaction is which"
   ]
  },
  {
   "cell_type": "markdown",
   "id": "89639868",
   "metadata": {},
   "source": [
    "# Balancing the data \n",
    "* As we seen before our data is very imbalanced .\n",
    "* And if we train our models with this imbalanced data it will give us biased output. \n",
    "* The number of Normal transaction[ class = 0] > > > Fraud Transaction[class =1]. So our model can take every transaction as normal. \n",
    "* Now we will take the same number of data of class  = 0 as class = 1 . \n",
    "* We will use under sampling"
   ]
  },
  {
   "cell_type": "code",
   "execution_count": 20,
   "id": "6eb401cb",
   "metadata": {},
   "outputs": [],
   "source": [
    "balanced_sample = df.sample(n = 492)"
   ]
  },
  {
   "cell_type": "code",
   "execution_count": 21,
   "id": "c863cdfc",
   "metadata": {},
   "outputs": [
    {
     "data": {
      "text/plain": [
       "(492, 31)"
      ]
     },
     "execution_count": 21,
     "metadata": {},
     "output_type": "execute_result"
    }
   ],
   "source": [
    "balanced_sample.shape"
   ]
  },
  {
   "cell_type": "markdown",
   "id": "b520c63f",
   "metadata": {},
   "source": [
    "* Now concatenating the two dataframes. \n",
    "* balanced_sample and our fraud_transaction "
   ]
  },
  {
   "cell_type": "code",
   "execution_count": 22,
   "id": "9c0ac4a6",
   "metadata": {},
   "outputs": [
    {
     "data": {
      "text/html": [
       "<div>\n",
       "<style scoped>\n",
       "    .dataframe tbody tr th:only-of-type {\n",
       "        vertical-align: middle;\n",
       "    }\n",
       "\n",
       "    .dataframe tbody tr th {\n",
       "        vertical-align: top;\n",
       "    }\n",
       "\n",
       "    .dataframe thead th {\n",
       "        text-align: right;\n",
       "    }\n",
       "</style>\n",
       "<table border=\"1\" class=\"dataframe\">\n",
       "  <thead>\n",
       "    <tr style=\"text-align: right;\">\n",
       "      <th></th>\n",
       "      <th>Time</th>\n",
       "      <th>V1</th>\n",
       "      <th>V2</th>\n",
       "      <th>V3</th>\n",
       "      <th>V4</th>\n",
       "      <th>V5</th>\n",
       "      <th>V6</th>\n",
       "      <th>V7</th>\n",
       "      <th>V8</th>\n",
       "      <th>V9</th>\n",
       "      <th>...</th>\n",
       "      <th>V21</th>\n",
       "      <th>V22</th>\n",
       "      <th>V23</th>\n",
       "      <th>V24</th>\n",
       "      <th>V25</th>\n",
       "      <th>V26</th>\n",
       "      <th>V27</th>\n",
       "      <th>V28</th>\n",
       "      <th>Amount</th>\n",
       "      <th>Class</th>\n",
       "    </tr>\n",
       "  </thead>\n",
       "  <tbody>\n",
       "    <tr>\n",
       "      <th>22784</th>\n",
       "      <td>32432.0</td>\n",
       "      <td>1.099563</td>\n",
       "      <td>-0.083008</td>\n",
       "      <td>1.054060</td>\n",
       "      <td>1.636420</td>\n",
       "      <td>-0.780976</td>\n",
       "      <td>0.075912</td>\n",
       "      <td>-0.438885</td>\n",
       "      <td>0.202013</td>\n",
       "      <td>0.980440</td>\n",
       "      <td>...</td>\n",
       "      <td>-0.075146</td>\n",
       "      <td>0.118444</td>\n",
       "      <td>-0.017896</td>\n",
       "      <td>0.412157</td>\n",
       "      <td>0.542060</td>\n",
       "      <td>-0.275205</td>\n",
       "      <td>0.068267</td>\n",
       "      <td>0.023719</td>\n",
       "      <td>5.99</td>\n",
       "      <td>0</td>\n",
       "    </tr>\n",
       "    <tr>\n",
       "      <th>198872</th>\n",
       "      <td>132691.0</td>\n",
       "      <td>-1.124829</td>\n",
       "      <td>1.615882</td>\n",
       "      <td>-0.246758</td>\n",
       "      <td>-1.007567</td>\n",
       "      <td>0.794176</td>\n",
       "      <td>-0.388234</td>\n",
       "      <td>0.852613</td>\n",
       "      <td>0.162459</td>\n",
       "      <td>-0.272138</td>\n",
       "      <td>...</td>\n",
       "      <td>-0.252198</td>\n",
       "      <td>-0.636616</td>\n",
       "      <td>-0.118839</td>\n",
       "      <td>-1.025058</td>\n",
       "      <td>-0.115831</td>\n",
       "      <td>0.224957</td>\n",
       "      <td>0.035447</td>\n",
       "      <td>0.208210</td>\n",
       "      <td>7.63</td>\n",
       "      <td>0</td>\n",
       "    </tr>\n",
       "    <tr>\n",
       "      <th>82247</th>\n",
       "      <td>59320.0</td>\n",
       "      <td>-1.402592</td>\n",
       "      <td>1.204531</td>\n",
       "      <td>0.852502</td>\n",
       "      <td>0.884028</td>\n",
       "      <td>-0.077990</td>\n",
       "      <td>-0.648121</td>\n",
       "      <td>0.414283</td>\n",
       "      <td>0.157118</td>\n",
       "      <td>-0.936227</td>\n",
       "      <td>...</td>\n",
       "      <td>0.262791</td>\n",
       "      <td>0.767425</td>\n",
       "      <td>0.186294</td>\n",
       "      <td>0.577686</td>\n",
       "      <td>-0.220767</td>\n",
       "      <td>-0.399304</td>\n",
       "      <td>-0.428984</td>\n",
       "      <td>0.123393</td>\n",
       "      <td>17.21</td>\n",
       "      <td>0</td>\n",
       "    </tr>\n",
       "    <tr>\n",
       "      <th>265004</th>\n",
       "      <td>161687.0</td>\n",
       "      <td>-0.281890</td>\n",
       "      <td>-0.039618</td>\n",
       "      <td>-0.759138</td>\n",
       "      <td>-1.985531</td>\n",
       "      <td>1.240182</td>\n",
       "      <td>-1.308066</td>\n",
       "      <td>0.980647</td>\n",
       "      <td>-0.275082</td>\n",
       "      <td>-1.953747</td>\n",
       "      <td>...</td>\n",
       "      <td>0.634603</td>\n",
       "      <td>1.567972</td>\n",
       "      <td>-0.443512</td>\n",
       "      <td>0.819854</td>\n",
       "      <td>0.505363</td>\n",
       "      <td>0.204709</td>\n",
       "      <td>0.028001</td>\n",
       "      <td>0.124681</td>\n",
       "      <td>20.00</td>\n",
       "      <td>0</td>\n",
       "    </tr>\n",
       "    <tr>\n",
       "      <th>274554</th>\n",
       "      <td>166081.0</td>\n",
       "      <td>1.941689</td>\n",
       "      <td>-0.585406</td>\n",
       "      <td>-0.296023</td>\n",
       "      <td>0.276013</td>\n",
       "      <td>-0.941335</td>\n",
       "      <td>-0.683291</td>\n",
       "      <td>-0.621350</td>\n",
       "      <td>-0.071427</td>\n",
       "      <td>1.561530</td>\n",
       "      <td>...</td>\n",
       "      <td>0.248788</td>\n",
       "      <td>0.915109</td>\n",
       "      <td>0.080108</td>\n",
       "      <td>0.094641</td>\n",
       "      <td>-0.139185</td>\n",
       "      <td>0.179488</td>\n",
       "      <td>0.009557</td>\n",
       "      <td>-0.038701</td>\n",
       "      <td>34.95</td>\n",
       "      <td>0</td>\n",
       "    </tr>\n",
       "  </tbody>\n",
       "</table>\n",
       "<p>5 rows × 31 columns</p>\n",
       "</div>"
      ],
      "text/plain": [
       "            Time        V1        V2        V3        V4        V5        V6  \\\n",
       "22784    32432.0  1.099563 -0.083008  1.054060  1.636420 -0.780976  0.075912   \n",
       "198872  132691.0 -1.124829  1.615882 -0.246758 -1.007567  0.794176 -0.388234   \n",
       "82247    59320.0 -1.402592  1.204531  0.852502  0.884028 -0.077990 -0.648121   \n",
       "265004  161687.0 -0.281890 -0.039618 -0.759138 -1.985531  1.240182 -1.308066   \n",
       "274554  166081.0  1.941689 -0.585406 -0.296023  0.276013 -0.941335 -0.683291   \n",
       "\n",
       "              V7        V8        V9  ...       V21       V22       V23  \\\n",
       "22784  -0.438885  0.202013  0.980440  ... -0.075146  0.118444 -0.017896   \n",
       "198872  0.852613  0.162459 -0.272138  ... -0.252198 -0.636616 -0.118839   \n",
       "82247   0.414283  0.157118 -0.936227  ...  0.262791  0.767425  0.186294   \n",
       "265004  0.980647 -0.275082 -1.953747  ...  0.634603  1.567972 -0.443512   \n",
       "274554 -0.621350 -0.071427  1.561530  ...  0.248788  0.915109  0.080108   \n",
       "\n",
       "             V24       V25       V26       V27       V28  Amount  Class  \n",
       "22784   0.412157  0.542060 -0.275205  0.068267  0.023719    5.99      0  \n",
       "198872 -1.025058 -0.115831  0.224957  0.035447  0.208210    7.63      0  \n",
       "82247   0.577686 -0.220767 -0.399304 -0.428984  0.123393   17.21      0  \n",
       "265004  0.819854  0.505363  0.204709  0.028001  0.124681   20.00      0  \n",
       "274554  0.094641 -0.139185  0.179488  0.009557 -0.038701   34.95      0  \n",
       "\n",
       "[5 rows x 31 columns]"
      ]
     },
     "execution_count": 22,
     "metadata": {},
     "output_type": "execute_result"
    }
   ],
   "source": [
    "df2 = pd.concat([balanced_sample,fraud_transaction],axis=0)\n",
    "df2.head()"
   ]
  },
  {
   "cell_type": "code",
   "execution_count": 23,
   "id": "0b61dd08",
   "metadata": {},
   "outputs": [
    {
     "data": {
      "text/html": [
       "<div>\n",
       "<style scoped>\n",
       "    .dataframe tbody tr th:only-of-type {\n",
       "        vertical-align: middle;\n",
       "    }\n",
       "\n",
       "    .dataframe tbody tr th {\n",
       "        vertical-align: top;\n",
       "    }\n",
       "\n",
       "    .dataframe thead th {\n",
       "        text-align: right;\n",
       "    }\n",
       "</style>\n",
       "<table border=\"1\" class=\"dataframe\">\n",
       "  <thead>\n",
       "    <tr style=\"text-align: right;\">\n",
       "      <th></th>\n",
       "      <th>Time</th>\n",
       "      <th>V1</th>\n",
       "      <th>V2</th>\n",
       "      <th>V3</th>\n",
       "      <th>V4</th>\n",
       "      <th>V5</th>\n",
       "      <th>V6</th>\n",
       "      <th>V7</th>\n",
       "      <th>V8</th>\n",
       "      <th>V9</th>\n",
       "      <th>...</th>\n",
       "      <th>V21</th>\n",
       "      <th>V22</th>\n",
       "      <th>V23</th>\n",
       "      <th>V24</th>\n",
       "      <th>V25</th>\n",
       "      <th>V26</th>\n",
       "      <th>V27</th>\n",
       "      <th>V28</th>\n",
       "      <th>Amount</th>\n",
       "      <th>Class</th>\n",
       "    </tr>\n",
       "  </thead>\n",
       "  <tbody>\n",
       "    <tr>\n",
       "      <th>count</th>\n",
       "      <td>984.000000</td>\n",
       "      <td>984.000000</td>\n",
       "      <td>984.000000</td>\n",
       "      <td>984.000000</td>\n",
       "      <td>984.000000</td>\n",
       "      <td>984.000000</td>\n",
       "      <td>984.000000</td>\n",
       "      <td>984.000000</td>\n",
       "      <td>984.000000</td>\n",
       "      <td>984.000000</td>\n",
       "      <td>...</td>\n",
       "      <td>984.000000</td>\n",
       "      <td>984.000000</td>\n",
       "      <td>984.000000</td>\n",
       "      <td>984.000000</td>\n",
       "      <td>984.000000</td>\n",
       "      <td>984.000000</td>\n",
       "      <td>984.000000</td>\n",
       "      <td>984.000000</td>\n",
       "      <td>984.00000</td>\n",
       "      <td>984.000000</td>\n",
       "    </tr>\n",
       "    <tr>\n",
       "      <th>mean</th>\n",
       "      <td>87891.922764</td>\n",
       "      <td>-2.338042</td>\n",
       "      <td>1.813231</td>\n",
       "      <td>-3.518087</td>\n",
       "      <td>2.195501</td>\n",
       "      <td>-1.566444</td>\n",
       "      <td>-0.609041</td>\n",
       "      <td>-2.824437</td>\n",
       "      <td>0.223001</td>\n",
       "      <td>-1.322765</td>\n",
       "      <td>...</td>\n",
       "      <td>0.385156</td>\n",
       "      <td>0.001500</td>\n",
       "      <td>-0.003327</td>\n",
       "      <td>-0.050757</td>\n",
       "      <td>0.030508</td>\n",
       "      <td>0.029692</td>\n",
       "      <td>0.078501</td>\n",
       "      <td>0.038095</td>\n",
       "      <td>102.79185</td>\n",
       "      <td>0.500000</td>\n",
       "    </tr>\n",
       "    <tr>\n",
       "      <th>std</th>\n",
       "      <td>48152.400498</td>\n",
       "      <td>5.508371</td>\n",
       "      <td>3.654388</td>\n",
       "      <td>6.209278</td>\n",
       "      <td>3.249512</td>\n",
       "      <td>4.195686</td>\n",
       "      <td>1.812911</td>\n",
       "      <td>5.837796</td>\n",
       "      <td>4.968244</td>\n",
       "      <td>2.304275</td>\n",
       "      <td>...</td>\n",
       "      <td>2.874664</td>\n",
       "      <td>1.187296</td>\n",
       "      <td>1.155726</td>\n",
       "      <td>0.584149</td>\n",
       "      <td>0.652313</td>\n",
       "      <td>0.474623</td>\n",
       "      <td>1.002820</td>\n",
       "      <td>0.410352</td>\n",
       "      <td>222.02093</td>\n",
       "      <td>0.500254</td>\n",
       "    </tr>\n",
       "    <tr>\n",
       "      <th>min</th>\n",
       "      <td>406.000000</td>\n",
       "      <td>-30.552380</td>\n",
       "      <td>-8.402154</td>\n",
       "      <td>-31.103685</td>\n",
       "      <td>-3.937572</td>\n",
       "      <td>-22.105532</td>\n",
       "      <td>-6.406267</td>\n",
       "      <td>-43.557242</td>\n",
       "      <td>-41.044261</td>\n",
       "      <td>-13.434066</td>\n",
       "      <td>...</td>\n",
       "      <td>-22.797604</td>\n",
       "      <td>-8.887017</td>\n",
       "      <td>-19.254328</td>\n",
       "      <td>-2.028024</td>\n",
       "      <td>-4.781606</td>\n",
       "      <td>-1.155661</td>\n",
       "      <td>-7.263482</td>\n",
       "      <td>-1.869290</td>\n",
       "      <td>0.00000</td>\n",
       "      <td>0.000000</td>\n",
       "    </tr>\n",
       "    <tr>\n",
       "      <th>25%</th>\n",
       "      <td>47540.000000</td>\n",
       "      <td>-2.784711</td>\n",
       "      <td>-0.198344</td>\n",
       "      <td>-5.084967</td>\n",
       "      <td>-0.206870</td>\n",
       "      <td>-1.825936</td>\n",
       "      <td>-1.530108</td>\n",
       "      <td>-3.119040</td>\n",
       "      <td>-0.193416</td>\n",
       "      <td>-2.338449</td>\n",
       "      <td>...</td>\n",
       "      <td>-0.169856</td>\n",
       "      <td>-0.534377</td>\n",
       "      <td>-0.214412</td>\n",
       "      <td>-0.399037</td>\n",
       "      <td>-0.300804</td>\n",
       "      <td>-0.283741</td>\n",
       "      <td>-0.068912</td>\n",
       "      <td>-0.061107</td>\n",
       "      <td>1.50000</td>\n",
       "      <td>0.000000</td>\n",
       "    </tr>\n",
       "    <tr>\n",
       "      <th>50%</th>\n",
       "      <td>78579.000000</td>\n",
       "      <td>-0.765442</td>\n",
       "      <td>0.951244</td>\n",
       "      <td>-1.407349</td>\n",
       "      <td>1.222190</td>\n",
       "      <td>-0.432232</td>\n",
       "      <td>-0.618651</td>\n",
       "      <td>-0.688369</td>\n",
       "      <td>0.172268</td>\n",
       "      <td>-0.778059</td>\n",
       "      <td>...</td>\n",
       "      <td>0.165115</td>\n",
       "      <td>0.028198</td>\n",
       "      <td>-0.033291</td>\n",
       "      <td>0.010986</td>\n",
       "      <td>0.050324</td>\n",
       "      <td>-0.011255</td>\n",
       "      <td>0.048071</td>\n",
       "      <td>0.029798</td>\n",
       "      <td>17.55000</td>\n",
       "      <td>0.500000</td>\n",
       "    </tr>\n",
       "    <tr>\n",
       "      <th>75%</th>\n",
       "      <td>134280.000000</td>\n",
       "      <td>1.090377</td>\n",
       "      <td>2.777569</td>\n",
       "      <td>0.368799</td>\n",
       "      <td>4.202830</td>\n",
       "      <td>0.479796</td>\n",
       "      <td>0.131217</td>\n",
       "      <td>0.221360</td>\n",
       "      <td>0.896312</td>\n",
       "      <td>0.128303</td>\n",
       "      <td>...</td>\n",
       "      <td>0.680453</td>\n",
       "      <td>0.593022</td>\n",
       "      <td>0.190722</td>\n",
       "      <td>0.382076</td>\n",
       "      <td>0.402485</td>\n",
       "      <td>0.324074</td>\n",
       "      <td>0.446787</td>\n",
       "      <td>0.211902</td>\n",
       "      <td>99.91000</td>\n",
       "      <td>1.000000</td>\n",
       "    </tr>\n",
       "    <tr>\n",
       "      <th>max</th>\n",
       "      <td>172397.000000</td>\n",
       "      <td>2.358701</td>\n",
       "      <td>22.057729</td>\n",
       "      <td>3.233829</td>\n",
       "      <td>12.114672</td>\n",
       "      <td>11.095089</td>\n",
       "      <td>6.474115</td>\n",
       "      <td>5.802537</td>\n",
       "      <td>20.007208</td>\n",
       "      <td>4.456321</td>\n",
       "      <td>...</td>\n",
       "      <td>27.202839</td>\n",
       "      <td>8.361985</td>\n",
       "      <td>5.466230</td>\n",
       "      <td>1.231697</td>\n",
       "      <td>2.208209</td>\n",
       "      <td>2.745261</td>\n",
       "      <td>3.052358</td>\n",
       "      <td>1.954701</td>\n",
       "      <td>2125.87000</td>\n",
       "      <td>1.000000</td>\n",
       "    </tr>\n",
       "  </tbody>\n",
       "</table>\n",
       "<p>8 rows × 31 columns</p>\n",
       "</div>"
      ],
      "text/plain": [
       "                Time          V1          V2          V3          V4  \\\n",
       "count     984.000000  984.000000  984.000000  984.000000  984.000000   \n",
       "mean    87891.922764   -2.338042    1.813231   -3.518087    2.195501   \n",
       "std     48152.400498    5.508371    3.654388    6.209278    3.249512   \n",
       "min       406.000000  -30.552380   -8.402154  -31.103685   -3.937572   \n",
       "25%     47540.000000   -2.784711   -0.198344   -5.084967   -0.206870   \n",
       "50%     78579.000000   -0.765442    0.951244   -1.407349    1.222190   \n",
       "75%    134280.000000    1.090377    2.777569    0.368799    4.202830   \n",
       "max    172397.000000    2.358701   22.057729    3.233829   12.114672   \n",
       "\n",
       "               V5          V6          V7          V8          V9  ...  \\\n",
       "count  984.000000  984.000000  984.000000  984.000000  984.000000  ...   \n",
       "mean    -1.566444   -0.609041   -2.824437    0.223001   -1.322765  ...   \n",
       "std      4.195686    1.812911    5.837796    4.968244    2.304275  ...   \n",
       "min    -22.105532   -6.406267  -43.557242  -41.044261  -13.434066  ...   \n",
       "25%     -1.825936   -1.530108   -3.119040   -0.193416   -2.338449  ...   \n",
       "50%     -0.432232   -0.618651   -0.688369    0.172268   -0.778059  ...   \n",
       "75%      0.479796    0.131217    0.221360    0.896312    0.128303  ...   \n",
       "max     11.095089    6.474115    5.802537   20.007208    4.456321  ...   \n",
       "\n",
       "              V21         V22         V23         V24         V25         V26  \\\n",
       "count  984.000000  984.000000  984.000000  984.000000  984.000000  984.000000   \n",
       "mean     0.385156    0.001500   -0.003327   -0.050757    0.030508    0.029692   \n",
       "std      2.874664    1.187296    1.155726    0.584149    0.652313    0.474623   \n",
       "min    -22.797604   -8.887017  -19.254328   -2.028024   -4.781606   -1.155661   \n",
       "25%     -0.169856   -0.534377   -0.214412   -0.399037   -0.300804   -0.283741   \n",
       "50%      0.165115    0.028198   -0.033291    0.010986    0.050324   -0.011255   \n",
       "75%      0.680453    0.593022    0.190722    0.382076    0.402485    0.324074   \n",
       "max     27.202839    8.361985    5.466230    1.231697    2.208209    2.745261   \n",
       "\n",
       "              V27         V28      Amount       Class  \n",
       "count  984.000000  984.000000   984.00000  984.000000  \n",
       "mean     0.078501    0.038095   102.79185    0.500000  \n",
       "std      1.002820    0.410352   222.02093    0.500254  \n",
       "min     -7.263482   -1.869290     0.00000    0.000000  \n",
       "25%     -0.068912   -0.061107     1.50000    0.000000  \n",
       "50%      0.048071    0.029798    17.55000    0.500000  \n",
       "75%      0.446787    0.211902    99.91000    1.000000  \n",
       "max      3.052358    1.954701  2125.87000    1.000000  \n",
       "\n",
       "[8 rows x 31 columns]"
      ]
     },
     "execution_count": 23,
     "metadata": {},
     "output_type": "execute_result"
    }
   ],
   "source": [
    "df2.describe()"
   ]
  },
  {
   "cell_type": "code",
   "execution_count": 24,
   "id": "0238ca76",
   "metadata": {},
   "outputs": [
    {
     "data": {
      "text/html": [
       "<div>\n",
       "<style scoped>\n",
       "    .dataframe tbody tr th:only-of-type {\n",
       "        vertical-align: middle;\n",
       "    }\n",
       "\n",
       "    .dataframe tbody tr th {\n",
       "        vertical-align: top;\n",
       "    }\n",
       "\n",
       "    .dataframe thead th {\n",
       "        text-align: right;\n",
       "    }\n",
       "</style>\n",
       "<table border=\"1\" class=\"dataframe\">\n",
       "  <thead>\n",
       "    <tr style=\"text-align: right;\">\n",
       "      <th></th>\n",
       "      <th>Time</th>\n",
       "      <th>V1</th>\n",
       "      <th>V2</th>\n",
       "      <th>V3</th>\n",
       "      <th>V4</th>\n",
       "      <th>V5</th>\n",
       "      <th>V6</th>\n",
       "      <th>V7</th>\n",
       "      <th>V8</th>\n",
       "      <th>V9</th>\n",
       "      <th>...</th>\n",
       "      <th>V20</th>\n",
       "      <th>V21</th>\n",
       "      <th>V22</th>\n",
       "      <th>V23</th>\n",
       "      <th>V24</th>\n",
       "      <th>V25</th>\n",
       "      <th>V26</th>\n",
       "      <th>V27</th>\n",
       "      <th>V28</th>\n",
       "      <th>Amount</th>\n",
       "    </tr>\n",
       "    <tr>\n",
       "      <th>Class</th>\n",
       "      <th></th>\n",
       "      <th></th>\n",
       "      <th></th>\n",
       "      <th></th>\n",
       "      <th></th>\n",
       "      <th></th>\n",
       "      <th></th>\n",
       "      <th></th>\n",
       "      <th></th>\n",
       "      <th></th>\n",
       "      <th></th>\n",
       "      <th></th>\n",
       "      <th></th>\n",
       "      <th></th>\n",
       "      <th></th>\n",
       "      <th></th>\n",
       "      <th></th>\n",
       "      <th></th>\n",
       "      <th></th>\n",
       "      <th></th>\n",
       "      <th></th>\n",
       "    </tr>\n",
       "  </thead>\n",
       "  <tbody>\n",
       "    <tr>\n",
       "      <th>0</th>\n",
       "      <td>95037.038618</td>\n",
       "      <td>0.095865</td>\n",
       "      <td>0.002684</td>\n",
       "      <td>-0.002894</td>\n",
       "      <td>-0.151027</td>\n",
       "      <td>0.018338</td>\n",
       "      <td>0.179655</td>\n",
       "      <td>-0.080144</td>\n",
       "      <td>-0.124634</td>\n",
       "      <td>-0.064406</td>\n",
       "      <td>...</td>\n",
       "      <td>-0.033132</td>\n",
       "      <td>0.056724</td>\n",
       "      <td>-0.011050</td>\n",
       "      <td>0.033653</td>\n",
       "      <td>0.003617</td>\n",
       "      <td>0.019567</td>\n",
       "      <td>0.007735</td>\n",
       "      <td>-0.013573</td>\n",
       "      <td>0.000523</td>\n",
       "      <td>83.372378</td>\n",
       "    </tr>\n",
       "    <tr>\n",
       "      <th>1</th>\n",
       "      <td>80746.806911</td>\n",
       "      <td>-4.771948</td>\n",
       "      <td>3.623778</td>\n",
       "      <td>-7.033281</td>\n",
       "      <td>4.542029</td>\n",
       "      <td>-3.151225</td>\n",
       "      <td>-1.397737</td>\n",
       "      <td>-5.568731</td>\n",
       "      <td>0.570636</td>\n",
       "      <td>-2.581123</td>\n",
       "      <td>...</td>\n",
       "      <td>0.372319</td>\n",
       "      <td>0.713588</td>\n",
       "      <td>0.014049</td>\n",
       "      <td>-0.040308</td>\n",
       "      <td>-0.105130</td>\n",
       "      <td>0.041449</td>\n",
       "      <td>0.051648</td>\n",
       "      <td>0.170575</td>\n",
       "      <td>0.075667</td>\n",
       "      <td>122.211321</td>\n",
       "    </tr>\n",
       "  </tbody>\n",
       "</table>\n",
       "<p>2 rows × 30 columns</p>\n",
       "</div>"
      ],
      "text/plain": [
       "               Time        V1        V2        V3        V4        V5  \\\n",
       "Class                                                                   \n",
       "0      95037.038618  0.095865  0.002684 -0.002894 -0.151027  0.018338   \n",
       "1      80746.806911 -4.771948  3.623778 -7.033281  4.542029 -3.151225   \n",
       "\n",
       "             V6        V7        V8        V9  ...       V20       V21  \\\n",
       "Class                                          ...                       \n",
       "0      0.179655 -0.080144 -0.124634 -0.064406  ... -0.033132  0.056724   \n",
       "1     -1.397737 -5.568731  0.570636 -2.581123  ...  0.372319  0.713588   \n",
       "\n",
       "            V22       V23       V24       V25       V26       V27       V28  \\\n",
       "Class                                                                         \n",
       "0     -0.011050  0.033653  0.003617  0.019567  0.007735 -0.013573  0.000523   \n",
       "1      0.014049 -0.040308 -0.105130  0.041449  0.051648  0.170575  0.075667   \n",
       "\n",
       "           Amount  \n",
       "Class              \n",
       "0       83.372378  \n",
       "1      122.211321  \n",
       "\n",
       "[2 rows x 30 columns]"
      ]
     },
     "execution_count": 24,
     "metadata": {},
     "output_type": "execute_result"
    }
   ],
   "source": [
    "df2.groupby('Class').mean()"
   ]
  },
  {
   "cell_type": "markdown",
   "id": "e50338e0",
   "metadata": {},
   "source": [
    "# Splitting the Data"
   ]
  },
  {
   "cell_type": "code",
   "execution_count": 25,
   "id": "a8508d31",
   "metadata": {},
   "outputs": [],
   "source": [
    "from sklearn.model_selection import train_test_split"
   ]
  },
  {
   "cell_type": "code",
   "execution_count": 26,
   "id": "1c5bafcf",
   "metadata": {},
   "outputs": [],
   "source": [
    "# input data set -->  x \n",
    "\n",
    "X  = df2.drop(columns = 'Class',axis =1)\n",
    "Y = df2['Class']\n"
   ]
  },
  {
   "cell_type": "code",
   "execution_count": 27,
   "id": "6932c52b",
   "metadata": {},
   "outputs": [
    {
     "name": "stdout",
     "output_type": "stream",
     "text": [
      "(984, 30)\n"
     ]
    }
   ],
   "source": [
    "print(X.shape)"
   ]
  },
  {
   "cell_type": "markdown",
   "id": "bba4db59",
   "metadata": {},
   "source": [
    "**Train Data and Test Data**"
   ]
  },
  {
   "cell_type": "code",
   "execution_count": 28,
   "id": "1846682f",
   "metadata": {},
   "outputs": [
    {
     "name": "stdout",
     "output_type": "stream",
     "text": [
      "(787, 30) (197, 30)\n",
      "\n",
      "(787,) (197,)\n"
     ]
    }
   ],
   "source": [
    "X_train,X_test, Y_train, Y_test = train_test_split(X,Y, test_size = 0.2, stratify = Y, random_state = 2)\n",
    "print(X_train.shape, X_test.shape)\n",
    "print()\n",
    "print(Y_train.shape, Y_test.shape)"
   ]
  },
  {
   "cell_type": "markdown",
   "id": "5fcdf890",
   "metadata": {},
   "source": [
    "# Training Our Models "
   ]
  },
  {
   "cell_type": "markdown",
   "id": "8b7a717b",
   "metadata": {},
   "source": [
    "**Logistic Regression** "
   ]
  },
  {
   "cell_type": "code",
   "execution_count": 29,
   "id": "a045d443",
   "metadata": {},
   "outputs": [],
   "source": [
    "from sklearn.linear_model import LogisticRegression"
   ]
  },
  {
   "cell_type": "code",
   "execution_count": 30,
   "id": "2f8fd12c",
   "metadata": {},
   "outputs": [],
   "source": [
    "from sklearn.metrics import RocCurveDisplay"
   ]
  },
  {
   "cell_type": "code",
   "execution_count": 31,
   "id": "135dbf81",
   "metadata": {},
   "outputs": [
    {
     "name": "stdout",
     "output_type": "stream",
     "text": [
      " LR Accuracy score:  93.4010152284264\n",
      " LR F1 Score:  93.19371727748691\n",
      " LR Precision Score:  95.6989247311828\n",
      " LR Recall Score:  90.81632653061224\n",
      "____________________________________________________________________________________________________________\n",
      "\n",
      "Confusion Matrix and ROC Curve\n"
     ]
    },
    {
     "name": "stderr",
     "output_type": "stream",
     "text": [
      "C:\\Users\\User\\anaconda3\\lib\\site-packages\\scipy\\optimize\\linesearch.py:478: LineSearchWarning: The line search algorithm did not converge\n",
      "  warn('The line search algorithm did not converge', LineSearchWarning)\n",
      "C:\\Users\\User\\anaconda3\\lib\\site-packages\\scipy\\optimize\\linesearch.py:327: LineSearchWarning: The line search algorithm did not converge\n",
      "  warn('The line search algorithm did not converge', LineSearchWarning)\n",
      "C:\\Users\\User\\anaconda3\\lib\\site-packages\\scipy\\optimize\\linesearch.py:478: LineSearchWarning: The line search algorithm did not converge\n",
      "  warn('The line search algorithm did not converge', LineSearchWarning)\n",
      "C:\\Users\\User\\anaconda3\\lib\\site-packages\\scipy\\optimize\\linesearch.py:327: LineSearchWarning: The line search algorithm did not converge\n",
      "  warn('The line search algorithm did not converge', LineSearchWarning)\n",
      "C:\\Users\\User\\anaconda3\\lib\\site-packages\\scipy\\optimize\\linesearch.py:478: LineSearchWarning: The line search algorithm did not converge\n",
      "  warn('The line search algorithm did not converge', LineSearchWarning)\n",
      "C:\\Users\\User\\anaconda3\\lib\\site-packages\\scipy\\optimize\\linesearch.py:327: LineSearchWarning: The line search algorithm did not converge\n",
      "  warn('The line search algorithm did not converge', LineSearchWarning)\n",
      "C:\\Users\\User\\anaconda3\\lib\\site-packages\\scipy\\optimize\\linesearch.py:478: LineSearchWarning: The line search algorithm did not converge\n",
      "  warn('The line search algorithm did not converge', LineSearchWarning)\n",
      "C:\\Users\\User\\anaconda3\\lib\\site-packages\\scipy\\optimize\\linesearch.py:327: LineSearchWarning: The line search algorithm did not converge\n",
      "  warn('The line search algorithm did not converge', LineSearchWarning)\n",
      "C:\\Users\\User\\anaconda3\\lib\\site-packages\\scipy\\optimize\\linesearch.py:478: LineSearchWarning: The line search algorithm did not converge\n",
      "  warn('The line search algorithm did not converge', LineSearchWarning)\n",
      "C:\\Users\\User\\anaconda3\\lib\\site-packages\\scipy\\optimize\\linesearch.py:327: LineSearchWarning: The line search algorithm did not converge\n",
      "  warn('The line search algorithm did not converge', LineSearchWarning)\n",
      "C:\\Users\\User\\anaconda3\\lib\\site-packages\\sklearn\\utils\\optimize.py:210: ConvergenceWarning: newton-cg failed to converge. Increase the number of iterations.\n",
      "  warnings.warn(\n"
     ]
    },
    {
     "data": {
      "image/png": "[encoded data removed]",
      "text/plain": [
       "<Figure size 432x288 with 2 Axes>"
      ]
     },
     "metadata": {
      "needs_background": "light"
     },
     "output_type": "display_data"
    },
    {
     "data": {
      "image/png": "[encoded data removed]",
      "text/plain": [
       "<Figure size 432x288 with 1 Axes>"
      ]
     },
     "metadata": {
      "needs_background": "light"
     },
     "output_type": "display_data"
    }
   ],
   "source": [
    "lr = LogisticRegression(solver='newton-cg')\n",
    "lr.fit(X_train, Y_train)\n",
    "lr_predict = lr.predict(X_test)\n",
    "\n",
    "lr_ac = accuracy_score(Y_test, lr_predict)*100\n",
    "lr_f1 = f1_score(Y_test,lr_predict)*100\n",
    "lr_pr = precision_score(Y_test,lr_predict)*100\n",
    "lr_rec = recall_score(Y_test,lr_predict)*100\n",
    "    \n",
    "#confusion Matrix \n",
    "cm = confusion_matrix(Y_test, lr_predict)\n",
    "cmd = ConfusionMatrixDisplay(cm, display_labels=['Normal', 'Fraud'])\n",
    "    \n",
    "    \n",
    "print(' LR Accuracy score: ', lr_ac)\n",
    "print(' LR F1 Score: ',lr_f1)\n",
    "print(' LR Precision Score: ', lr_pr)\n",
    "print(' LR Recall Score: ', lr_rec)\n",
    "print('____________________________________________________________________________________________________________')\n",
    "print('')\n",
    "print('Confusion Matrix and ROC Curve')\n",
    "cmd.plot(cmap=plt.cm.Blues)\n",
    "    \n",
    "roc_disp = RocCurveDisplay.from_estimator(lr, X_test,Y_test)"
   ]
  },
  {
   "cell_type": "markdown",
   "id": "a47796e6",
   "metadata": {},
   "source": [
    "**K Nearest Neighbour**"
   ]
  },
  {
   "cell_type": "markdown",
   "id": "33f224e9",
   "metadata": {},
   "source": [
    "* Finding the best value for k "
   ]
  },
  {
   "cell_type": "code",
   "execution_count": 32,
   "id": "753a96c8",
   "metadata": {},
   "outputs": [
    {
     "name": "stdout",
     "output_type": "stream",
     "text": [
      "Best value for K is :  8\n"
     ]
    }
   ],
   "source": [
    "\n",
    "def BestValueForK():\n",
    "    \n",
    "    accuracy_list = []\n",
    "    for i in range(1,21):\n",
    "        kn = KNeighborsClassifier(n_neighbors=i)\n",
    "        kn.fit(X_train, Y_train)\n",
    "        kn_predict = kn.predict(X_test)\n",
    "        kn_ac = accuracy_score(Y_test, kn_predict)\n",
    "        accuracy_list.append(kn_ac)\n",
    "        \n",
    "    max_accuracy = max(accuracy_list)\n",
    "    print('Best value for K is : ', accuracy_list.index(max_accuracy))\n",
    "    \n",
    "\n",
    "BestValueForK()\n",
    "        \n",
    "        "
   ]
  },
  {
   "cell_type": "code",
   "execution_count": 33,
   "id": "56173ad0",
   "metadata": {},
   "outputs": [
    {
     "name": "stdout",
     "output_type": "stream",
     "text": [
      " KNN Accuracy Score :  64.9746192893401\n",
      " KNN F1 score:  61.01694915254237\n",
      " KNN Precision Score:  68.35443037974683\n",
      " KNN Recall Score:  55.10204081632652\n",
      "____________________________________________________________________________________________________________\n",
      "\n",
      "Confusion Matrix and ROC Curve\n"
     ]
    },
    {
     "data": {
      "image/png": "[encoded data removed]",
      "text/plain": [
       "<Figure size 432x288 with 2 Axes>"
      ]
     },
     "metadata": {
      "needs_background": "light"
     },
     "output_type": "display_data"
    },
    {
     "data": {
      "image/png": "[encoded data removed]",
      "text/plain": [
       "<Figure size 432x288 with 1 Axes>"
      ]
     },
     "metadata": {
      "needs_background": "light"
     },
     "output_type": "display_data"
    }
   ],
   "source": [
    "\n",
    "    kn = KNeighborsClassifier(n_neighbors=4)\n",
    "    kn.fit(X_train, Y_train)\n",
    "    kn_predict = kn.predict(X_test)\n",
    "    \n",
    "    kn_ac = accuracy_score(Y_test,kn_predict)*100\n",
    "    kn_f1 = f1_score(Y_test, kn_predict)*100\n",
    "    kn_pr = precision_score(Y_test, kn_predict)*100\n",
    "    kn_rec = recall_score(Y_test, kn_predict)*100\n",
    "    \n",
    "    \n",
    "    print(' KNN Accuracy Score : ', kn_ac)\n",
    "    print(' KNN F1 score: ',kn_f1 )\n",
    "    print(' KNN Precision Score: ',kn_pr)\n",
    "    print(' KNN Recall Score: ', kn_rec)\n",
    "    \n",
    "    #Confusion Matrix and Roc Curve \n",
    "    cm = confusion_matrix(Y_test, kn_predict)\n",
    "    cmd = ConfusionMatrixDisplay(cm, display_labels=['Normal', 'Fraud'])\n",
    "    print('____________________________________________________________________________________________________________')\n",
    "    print('')\n",
    "    print('Confusion Matrix and ROC Curve')\n",
    "    cmd.plot(cmap=plt.cm.Blues)\n",
    "    \n",
    "    roc_disp = RocCurveDisplay.from_estimator(kn, X_test,Y_test)"
   ]
  },
  {
   "cell_type": "code",
   "execution_count": null,
   "id": "7f4dc02e",
   "metadata": {},
   "outputs": [],
   "source": []
  },
  {
   "cell_type": "markdown",
   "id": "e0aeacbf",
   "metadata": {},
   "source": [
    "**Naive Bayes**"
   ]
  },
  {
   "cell_type": "code",
   "execution_count": 34,
   "id": "e4be0558",
   "metadata": {},
   "outputs": [
    {
     "name": "stdout",
     "output_type": "stream",
     "text": [
      " GNB Accuracy Score :  86.80203045685279\n",
      " GNB F1 score:  85.05747126436782\n",
      " GNB Precision Score:  97.36842105263158\n",
      " GNB Recall Score:  75.51020408163265\n",
      "____________________________________________________________________________________________________________\n",
      "\n",
      "Confusion Matrix and ROC Curve\n"
     ]
    },
    {
     "data": {
      "image/png": "[encoded data removed]",
      "text/plain": [
       "<Figure size 432x288 with 2 Axes>"
      ]
     },
     "metadata": {
      "needs_background": "light"
     },
     "output_type": "display_data"
    },
    {
     "data": {
      "image/png": "[encoded data removed]",
      "text/plain": [
       "<Figure size 432x288 with 1 Axes>"
      ]
     },
     "metadata": {
      "needs_background": "light"
     },
     "output_type": "display_data"
    }
   ],
   "source": [
    "\n",
    "    nb = GaussianNB()\n",
    "    nb.fit(X_train, Y_train)\n",
    "    nb_predict = nb.predict(X_test)\n",
    "    \n",
    "    nb_ac = accuracy_score(Y_test,nb_predict)*100\n",
    "    nb_f1 = f1_score(Y_test, nb_predict)*100\n",
    "    nb_pr = precision_score(Y_test, nb_predict)*100\n",
    "    nb_rec = recall_score(Y_test, nb_predict)*100\n",
    "    \n",
    "    print(' GNB Accuracy Score : ', nb_ac)\n",
    "    print(' GNB F1 score: ', nb_f1)\n",
    "    print(' GNB Precision Score: ',nb_pr)\n",
    "    print(' GNB Recall Score: ', nb_rec)\n",
    "    \n",
    "    #Confusion Matrix and Roc Curve \n",
    "    \n",
    "    cm = confusion_matrix(Y_test, nb_predict)\n",
    "    cmd = ConfusionMatrixDisplay(cm, display_labels=['Normal', 'Fraud'])\n",
    "    print('____________________________________________________________________________________________________________')\n",
    "    print('')\n",
    "    print('Confusion Matrix and ROC Curve')\n",
    "    cmd.plot(cmap=plt.cm.Blues)\n",
    "    \n",
    "    roc_disp = RocCurveDisplay.from_estimator(nb, X_test,Y_test)\n",
    "    "
   ]
  },
  {
   "cell_type": "markdown",
   "id": "5be53aea",
   "metadata": {},
   "source": [
    "**Decision Tree Classifier**"
   ]
  },
  {
   "cell_type": "code",
   "execution_count": 35,
   "id": "28c0a902",
   "metadata": {},
   "outputs": [
    {
     "name": "stdout",
     "output_type": "stream",
     "text": [
      " DTC Accuracy :  89.84771573604061\n",
      " DTC F1 Score : 89.13043478260869\n",
      " DTC Precission :   95.34883720930233\n",
      " DTC Recall Score:  83.6734693877551\n",
      "____________________________________________________________________________________________________________\n",
      "\n",
      "Confusion Matrix and ROC Curve\n"
     ]
    },
    {
     "data": {
      "image/png": "[encoded data removed]",
      "text/plain": [
       "<Figure size 432x288 with 2 Axes>"
      ]
     },
     "metadata": {
      "needs_background": "light"
     },
     "output_type": "display_data"
    },
    {
     "data": {
      "image/png": "[encoded data removed]",
      "text/plain": [
       "<Figure size 432x288 with 1 Axes>"
      ]
     },
     "metadata": {
      "needs_background": "light"
     },
     "output_type": "display_data"
    }
   ],
   "source": [
    "\n",
    "    dt = DecisionTreeClassifier(min_samples_split=20)\n",
    "    dt.fit(X_train, Y_train)\n",
    "    dt_predict = dt.predict(X_test)\n",
    "    \n",
    "    dt_ac = accuracy_score(Y_test,dt_predict)*100\n",
    "    dt_f1 = f1_score(Y_test,dt_predict)*100\n",
    "    dt_pr = precision_score(Y_test,dt_predict)*100\n",
    "    dt_rec = recall_score(Y_test,dt_predict)*100\n",
    "    \n",
    "    print(' DTC Accuracy : ',dt_ac)\n",
    "    print(' DTC F1 Score :', dt_f1)\n",
    "    print(' DTC Precission :  ', dt_pr)\n",
    "    print(' DTC Recall Score: ',dt_rec)\n",
    "    \n",
    "    \n",
    "    #Confusion Matrix and Roc Curve \n",
    "    cm = confusion_matrix(Y_test, dt_predict)\n",
    "    cmd = ConfusionMatrixDisplay(cm, display_labels=['Normal', 'Fraud'])\n",
    "    print('____________________________________________________________________________________________________________')\n",
    "    print('')\n",
    "    print('Confusion Matrix and ROC Curve')\n",
    "    cmd.plot(cmap=plt.cm.Blues)\n",
    "    \n",
    "    roc_disp = RocCurveDisplay.from_estimator(dt, X_test,Y_test)"
   ]
  },
  {
   "cell_type": "markdown",
   "id": "731bc3c0",
   "metadata": {},
   "source": [
    "**Random Forest Classifier**"
   ]
  },
  {
   "cell_type": "code",
   "execution_count": 36,
   "id": "3c00c403",
   "metadata": {},
   "outputs": [
    {
     "name": "stdout",
     "output_type": "stream",
     "text": [
      " RF Accuracy :  92.38578680203045\n",
      " RF F1 Score:  91.97860962566844\n",
      " RF Precission:  96.62921348314607\n",
      " RF Recall :  87.75510204081633\n",
      "____________________________________________________________________________________________________________\n",
      "\n",
      "Confusion Matrix and ROC Curve\n"
     ]
    },
    {
     "data": {
      "image/png": "[encoded data removed]",
      "text/plain": [
       "<Figure size 432x288 with 2 Axes>"
      ]
     },
     "metadata": {
      "needs_background": "light"
     },
     "output_type": "display_data"
    },
    {
     "data": {
      "image/png": "[encoded data removed]",
      "text/plain": [
       "<Figure size 432x288 with 1 Axes>"
      ]
     },
     "metadata": {
      "needs_background": "light"
     },
     "output_type": "display_data"
    }
   ],
   "source": [
    "\n",
    "    rf = RandomForestClassifier(n_estimators=100)\n",
    "    rf.fit(X_train, Y_train)\n",
    "    rf_predict = rf.predict(X_test)\n",
    "    \n",
    "    rf_ac = accuracy_score(Y_test,rf_predict)*100\n",
    "    rf_f1 = f1_score(Y_test,rf_predict)*100\n",
    "    rf_pr = precision_score(Y_test,rf_predict)*100\n",
    "    rf_rec = recall_score(Y_test,rf_predict)*100\n",
    "    \n",
    "    print(' RF Accuracy : ', rf_ac)\n",
    "    print(' RF F1 Score: ',rf_f1)\n",
    "    print(' RF Precission: ',rf_pr)\n",
    "    print(' RF Recall : ',rf_rec)\n",
    "    \n",
    "    #Confusion Matrix and Roc Curve \n",
    "    cm = confusion_matrix(Y_test, rf_predict)\n",
    "    cmd = ConfusionMatrixDisplay(cm, display_labels=['Normal', 'Fraud'])\n",
    "    print('____________________________________________________________________________________________________________')\n",
    "    print('')\n",
    "    print('Confusion Matrix and ROC Curve')\n",
    "    cmd.plot(cmap=plt.cm.Blues)\n",
    "    \n",
    "    roc_disp = RocCurveDisplay.from_estimator(rf, X_test,Y_test)"
   ]
  },
  {
   "cell_type": "markdown",
   "id": "377e2407",
   "metadata": {},
   "source": [
    "# Performance Analysis\n",
    "* Finding the best model "
   ]
  },
  {
   "cell_type": "code",
   "execution_count": 37,
   "id": "48d2fde6",
   "metadata": {},
   "outputs": [],
   "source": [
    "result = {\n",
    "    'Name': ['Logistic Regression','KNN','Random Forest','Decision Tree','Naive Bayes'],\n",
    "    'Accuracy_Score ': [lr_ac,kn_ac,rf_ac,dt_ac,nb_ac],\n",
    "    'F1_Score':[lr_f1,kn_f1,rf_f1,dt_f1,nb_f1],\n",
    "    'Precision_Score ':[lr_pr, kn_pr, rf_pr,dt_pr,nb_pr],\n",
    "    'Recall_Score':[lr_rec,kn_rec,rf_rec,dt_rec,nb_rec]\n",
    "}"
   ]
  },
  {
   "cell_type": "code",
   "execution_count": 38,
   "id": "13952568",
   "metadata": {},
   "outputs": [],
   "source": [
    "df3 = pd.DataFrame(result)"
   ]
  },
  {
   "cell_type": "code",
   "execution_count": 39,
   "id": "d9c62eed",
   "metadata": {},
   "outputs": [
    {
     "data": {
      "text/html": [
       "<div>\n",
       "<style scoped>\n",
       "    .dataframe tbody tr th:only-of-type {\n",
       "        vertical-align: middle;\n",
       "    }\n",
       "\n",
       "    .dataframe tbody tr th {\n",
       "        vertical-align: top;\n",
       "    }\n",
       "\n",
       "    .dataframe thead th {\n",
       "        text-align: right;\n",
       "    }\n",
       "</style>\n",
       "<table border=\"1\" class=\"dataframe\">\n",
       "  <thead>\n",
       "    <tr style=\"text-align: right;\">\n",
       "      <th></th>\n",
       "      <th>Name</th>\n",
       "      <th>Accuracy_Score</th>\n",
       "      <th>F1_Score</th>\n",
       "      <th>Precision_Score</th>\n",
       "      <th>Recall_Score</th>\n",
       "    </tr>\n",
       "  </thead>\n",
       "  <tbody>\n",
       "    <tr>\n",
       "      <th>0</th>\n",
       "      <td>Logistic Regression</td>\n",
       "      <td>93.401015</td>\n",
       "      <td>93.193717</td>\n",
       "      <td>95.698925</td>\n",
       "      <td>90.816327</td>\n",
       "    </tr>\n",
       "    <tr>\n",
       "      <th>1</th>\n",
       "      <td>KNN</td>\n",
       "      <td>64.974619</td>\n",
       "      <td>61.016949</td>\n",
       "      <td>68.354430</td>\n",
       "      <td>55.102041</td>\n",
       "    </tr>\n",
       "    <tr>\n",
       "      <th>2</th>\n",
       "      <td>Random Forest</td>\n",
       "      <td>92.385787</td>\n",
       "      <td>91.978610</td>\n",
       "      <td>96.629213</td>\n",
       "      <td>87.755102</td>\n",
       "    </tr>\n",
       "    <tr>\n",
       "      <th>3</th>\n",
       "      <td>Decision Tree</td>\n",
       "      <td>89.847716</td>\n",
       "      <td>89.130435</td>\n",
       "      <td>95.348837</td>\n",
       "      <td>83.673469</td>\n",
       "    </tr>\n",
       "    <tr>\n",
       "      <th>4</th>\n",
       "      <td>Naive Bayes</td>\n",
       "      <td>86.802030</td>\n",
       "      <td>85.057471</td>\n",
       "      <td>97.368421</td>\n",
       "      <td>75.510204</td>\n",
       "    </tr>\n",
       "  </tbody>\n",
       "</table>\n",
       "</div>"
      ],
      "text/plain": [
       "                  Name  Accuracy_Score    F1_Score  Precision_Score   \\\n",
       "0  Logistic Regression        93.401015  93.193717         95.698925   \n",
       "1                  KNN        64.974619  61.016949         68.354430   \n",
       "2        Random Forest        92.385787  91.978610         96.629213   \n",
       "3        Decision Tree        89.847716  89.130435         95.348837   \n",
       "4          Naive Bayes        86.802030  85.057471         97.368421   \n",
       "\n",
       "   Recall_Score  \n",
       "0     90.816327  \n",
       "1     55.102041  \n",
       "2     87.755102  \n",
       "3     83.673469  \n",
       "4     75.510204  "
      ]
     },
     "execution_count": 39,
     "metadata": {},
     "output_type": "execute_result"
    }
   ],
   "source": [
    "df3.head()"
   ]
  },
  {
   "cell_type": "code",
   "execution_count": 40,
   "id": "5bdd942b",
   "metadata": {},
   "outputs": [
    {
     "data": {
      "image/png": "[encoded data removed]",
      "text/plain": [
       "<Figure size 432x288 with 1 Axes>"
      ]
     },
     "metadata": {
      "needs_background": "light"
     },
     "output_type": "display_data"
    }
   ],
   "source": [
    "df3.plot(kind= 'bar' )\n",
    "plt.xlabel('ML Models ')\n",
    "plt.ylabel('Scores ')\n",
    "plt.show()"
   ]
  },
  {
   "cell_type": "markdown",
   "id": "65e14651",
   "metadata": {},
   "source": [
    "**BAR PLOT**"
   ]
  },
  {
   "cell_type": "code",
   "execution_count": 41,
   "id": "14cf7552",
   "metadata": {},
   "outputs": [
    {
     "data": {
      "image/png": "[encoded data removed]",
      "text/plain": [
       "<Figure size 432x288 with 1 Axes>"
      ]
     },
     "metadata": {
      "needs_background": "light"
     },
     "output_type": "display_data"
    }
   ],
   "source": [
    "sns.barplot(x= df3.Name, y=df3.F1_Score)\n",
    "plt.show()"
   ]
  },
  {
   "cell_type": "markdown",
   "id": "429f2bcc",
   "metadata": {},
   "source": [
    "* After training different classification models with our dataset ,we can see that The Accuracy and F1 score is much higher in the Logistic Regression model . \n",
    "* So the best model is Logistic Regression."
   ]
  },
  {
   "cell_type": "code",
   "execution_count": null,
   "id": "fe28dd42",
   "metadata": {},
   "outputs": [],
   "source": []
  },
  {
   "cell_type": "code",
   "execution_count": null,
   "id": "380e599b",
   "metadata": {},
   "outputs": [],
   "source": []
  },
  {
   "cell_type": "code",
   "execution_count": null,
   "id": "d129e8a4",
   "metadata": {},
   "outputs": [],
   "source": []
  }
 ],
 "metadata": {
  "kernelspec": {
   "display_name": "Python 3 (ipykernel)",
   "language": "python",
   "name": "python3"
  },
  "language_info": {
   "codemirror_mode": {
    "name": "ipython",
    "version": 3
   },
   "file_extension": ".py",
   "mimetype": "text/x-python",
   "name": "python",
   "nbconvert_exporter": "python",
   "pygments_lexer": "ipython3",
   "version": "3.9.12"
  }
 },
 "nbformat": 4,
 "nbformat_minor": 5
}
